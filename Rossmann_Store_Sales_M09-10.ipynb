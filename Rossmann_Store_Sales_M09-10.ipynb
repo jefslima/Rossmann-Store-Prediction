{
 "cells": [
  {
   "cell_type": "markdown",
   "id": "95508d02",
   "metadata": {},
   "source": [
    "# 0.0. Import "
   ]
  },
  {
   "cell_type": "code",
   "execution_count": 1,
   "id": "235af05a",
   "metadata": {
    "ExecuteTime": {
     "end_time": "2021-06-22T19:40:43.081654Z",
     "start_time": "2021-06-22T19:40:38.757610Z"
    }
   },
   "outputs": [],
   "source": [
    "import math\n",
    "import pandas as pd\n",
    "import inflection \n",
    "import numpy as np\n",
    "import seaborn as sns\n",
    "import xgboost as xgb\n",
    "import random\n",
    "import pickle\n",
    "\n",
    "from scipy import stats\n",
    "from boruta import BorutaPy\n",
    "from sklearn.linear_model import LinearRegression, Lasso\n",
    "\n",
    "from sklearn.metrics import mean_absolute_error, mean_absolute_percentage_error, mean_squared_error\n",
    "from sklearn.ensemble import RandomForestRegressor\n",
    "from sklearn.preprocessing import RobustScaler, MinMaxScaler, LabelEncoder\n",
    "\n",
    "from matplotlib import pyplot as plt\n",
    "from IPython.core.display import HTML"
   ]
  },
  {
   "cell_type": "markdown",
   "id": "bd401d7b",
   "metadata": {},
   "source": [
    "## 0.1 Helper Func\n"
   ]
  },
  {
   "cell_type": "code",
   "execution_count": 2,
   "id": "3fb6546c",
   "metadata": {
    "ExecuteTime": {
     "end_time": "2021-06-22T19:40:43.158687Z",
     "start_time": "2021-06-22T19:40:43.084795Z"
    }
   },
   "outputs": [],
   "source": [
    "def jupyter_settings():\n",
    "    %matplotlib inline\n",
    "    %pylab inline\n",
    "    \n",
    "    plt.style.use( 'bmh' )\n",
    "    plt.rcParams['figure.figsize'] = [25, 12]\n",
    "    plt.rcParams['font.size'] = 24\n",
    "    \n",
    "    display( HTML( '<style>.container { width:100% !important; }</style>') )\n",
    "    pd.options.display.max_columns = None\n",
    "    pd.options.display.max_rows = None\n",
    "    pd.set_option( 'display.expand_frame_repr', False )\n",
    "    \n",
    "    sns.set()\n",
    "    \n",
    "    \n",
    "def cramer_v(x, y):\n",
    "    cm = pd.crosstab(x, y).values\n",
    "    n =cm.sum()\n",
    "    r, k = cm.shape\n",
    "    \n",
    "    chi2 = ss.chi2_contingency(cm)[0]\n",
    "    chi2corr = max(0, chi2 - (k-1)*(r-1)/(n-1))\n",
    "    kcorr = k - (k-1)**2/(n-1)\n",
    "    rcorr = r - (r-1)**2/(n-1)\n",
    "\n",
    "    \n",
    "    return np.sqrt((chi2/n) / (min (k-1, r-1)))\n",
    "\n",
    "\n",
    "def m1_error(model_name, y, yhat):\n",
    "    mae =  mean_absolute_error(y, yhat)\n",
    "    mape = (mean_absolute_percentage_error(y,yhat))\n",
    "    rsme = np.sqrt(mean_squared_error(y,yhat))\n",
    "    \n",
    "    return pd.DataFrame({ 'Model Name': model_name,\n",
    "                            'MAE': mae,\n",
    "                            'MAPE': mape,\n",
    "                            'RSME': rsme}, index=[0])\n",
    "\n",
    "\n",
    "\n",
    "def cross_validation(x_training, kfold, model_name, model, verbose= False):\n",
    "    mae_list = []\n",
    "    mape_list = []\n",
    "    rmse_list = []\n",
    "\n",
    "    for k in reversed(range (1, kfold+1)):\n",
    "        if verbose:\n",
    "            print('\\nKFold Number: {}'.format(k))\n",
    "        #Start and End Date for Validation\n",
    "        validation_start_date = x_training['date'].max() - datetime.timedelta(days=k*6*7)\n",
    "        validation_end_date = x_training['date'].max() - datetime.timedelta(days=(k-1)*6*7)\n",
    "\n",
    "        #filtering dataset\n",
    "        training = x_training[x_training['date'] < validation_start_date]\n",
    "        validation = x_training[(x_training['date'] >= validation_start_date)& (x_training['date'] <= validation_end_date)]\n",
    "\n",
    "        #training and validation dataset\n",
    "\n",
    "        #training\n",
    "        xtraining = training.drop(['date','sales'], axis=1)\n",
    "        ytraining = training['sales']\n",
    "\n",
    "\n",
    "        #validation\n",
    "        xvalidation=validation.drop(['date','sales'], axis=1)\n",
    "        yvalidation=validation['sales']\n",
    "\n",
    "        #model\n",
    "        m = model.fit( xtraining, ytraining)\n",
    "\n",
    "        #prodection\n",
    "        yhat= m.predict(xvalidation)\n",
    "\n",
    "        #performace and store of each kfold iteration\n",
    "        m_result = m1_error( model_name, np.expm1(yvalidation), np.expm1(yhat))\n",
    "        mae_list.append(m_result['MAE'])\n",
    "        mape_list.append(m_result['MAPE'])\n",
    "        rmse_list.append(m_result['RSME'])\n",
    "\n",
    "    return pd.DataFrame({'Model Name': model_name,\n",
    "        'MAE CV': np.round( np.mean(mae_list),2).astype(str)+ ' +/- ' + np.round( np.std(mae_list),2).astype(str),\n",
    "        'MAPE CV': np.round( np.mean(mape_list),2).astype(str)+ ' +/- ' + np.round( np.std(mape_list),2).astype(str),\n",
    "        'RSME CV': np.round( np.mean(rmse_list),2).astype(str)+ ' +/- ' + np.round( np.std(rmse_list),2).astype(str)}, index=[0])\n",
    "\n"
   ]
  },
  {
   "cell_type": "code",
   "execution_count": 3,
   "id": "b5a09b2f",
   "metadata": {
    "ExecuteTime": {
     "end_time": "2021-06-22T19:40:43.197803Z",
     "start_time": "2021-06-22T19:40:43.163172Z"
    }
   },
   "outputs": [
    {
     "name": "stdout",
     "output_type": "stream",
     "text": [
      "Populating the interactive namespace from numpy and matplotlib\n"
     ]
    },
    {
     "name": "stderr",
     "output_type": "stream",
     "text": [
      "/Library/Frameworks/Python.framework/Versions/3.7/lib/python3.7/site-packages/IPython/core/magics/pylab.py:160: UserWarning: pylab import has clobbered these variables: ['random']\n",
      "`%matplotlib` prevents importing * from pylab and numpy\n",
      "  \"\\n`%matplotlib` prevents importing * from pylab and numpy\"\n"
     ]
    },
    {
     "data": {
      "text/html": [
       "<style>.container { width:100% !important; }</style>"
      ],
      "text/plain": [
       "<IPython.core.display.HTML object>"
      ]
     },
     "metadata": {},
     "output_type": "display_data"
    }
   ],
   "source": [
    "jupyter_settings()"
   ]
  },
  {
   "cell_type": "markdown",
   "id": "3507d584",
   "metadata": {},
   "source": [
    "## 0.2 Loading data\n"
   ]
  },
  {
   "cell_type": "code",
   "execution_count": 7,
   "id": "e59feaf4",
   "metadata": {
    "ExecuteTime": {
     "end_time": "2021-06-22T19:41:43.096202Z",
     "start_time": "2021-06-22T19:41:41.725785Z"
    }
   },
   "outputs": [],
   "source": [
    "df_sales_raw = pd.read_csv ('rossmann-store-sales/train.csv', low_memory=False)\n",
    "df_store_raw = pd.read_csv ('rossmann-store-sales/store.csv', low_memory=False)\n",
    "\n",
    "#merge\n",
    "df_raw = pd.merge( df_sales_raw,df_store_raw, how='left', on='Store')"
   ]
  },
  {
   "cell_type": "markdown",
   "id": "2074c5c7",
   "metadata": {},
   "source": [
    "# 1.0 Descriçao de Dados"
   ]
  },
  {
   "cell_type": "code",
   "execution_count": 5,
   "id": "6264d015",
   "metadata": {
    "ExecuteTime": {
     "end_time": "2021-06-22T17:58:41.192062Z",
     "start_time": "2021-06-22T17:58:41.099303Z"
    }
   },
   "outputs": [],
   "source": [
    "df1 = df_raw.copy()"
   ]
  },
  {
   "cell_type": "markdown",
   "id": "db4f73e2",
   "metadata": {},
   "source": [
    "## 1.1. Rename Columns"
   ]
  },
  {
   "cell_type": "code",
   "execution_count": 6,
   "id": "29967b46",
   "metadata": {
    "ExecuteTime": {
     "end_time": "2021-06-22T17:58:41.201729Z",
     "start_time": "2021-06-22T17:58:41.195471Z"
    }
   },
   "outputs": [],
   "source": [
    "cols_old = ['Store', 'DayOfWeek', 'Date', 'Sales', 'Customers', 'Open', 'Promo', 'StateHoliday', 'SchoolHoliday', \n",
    "            'StoreType', 'Assortment', 'CompetitionDistance', 'CompetitionOpenSinceMonth','CompetitionOpenSinceYear',\n",
    "            'Promo2', 'Promo2SinceWeek','Promo2SinceYear', 'PromoInterval']\n",
    "\n",
    "snakecase = lambda x: inflection.underscore( x )\n",
    "\n",
    "cols_new = list(map(snakecase, cols_old))\n",
    "\n",
    "#Rename\n",
    "df1.columns = cols_new"
   ]
  },
  {
   "cell_type": "markdown",
   "id": "f83ddb8f",
   "metadata": {},
   "source": [
    "## 1.2. Data Dimensions"
   ]
  },
  {
   "cell_type": "code",
   "execution_count": 7,
   "id": "f2571c43",
   "metadata": {
    "ExecuteTime": {
     "end_time": "2021-06-22T17:58:41.217269Z",
     "start_time": "2021-06-22T17:58:41.209350Z"
    }
   },
   "outputs": [
    {
     "name": "stdout",
     "output_type": "stream",
     "text": [
      "Number of Rows: 1017209\n",
      "Number of Columns: 18\n"
     ]
    }
   ],
   "source": [
    "print('Number of Rows: {}' .format(df1.shape[0]))\n",
    "print('Number of Columns: {}' .format(df1.shape[1]))"
   ]
  },
  {
   "cell_type": "markdown",
   "id": "05e807d5",
   "metadata": {},
   "source": [
    "## 1.3. Data Type"
   ]
  },
  {
   "cell_type": "code",
   "execution_count": 8,
   "id": "46649fa6",
   "metadata": {
    "ExecuteTime": {
     "end_time": "2021-06-22T17:58:41.387252Z",
     "start_time": "2021-06-22T17:58:41.222540Z"
    }
   },
   "outputs": [
    {
     "data": {
      "text/plain": [
       "store                                    int64\n",
       "day_of_week                              int64\n",
       "date                            datetime64[ns]\n",
       "sales                                    int64\n",
       "customers                                int64\n",
       "open                                     int64\n",
       "promo                                    int64\n",
       "state_holiday                           object\n",
       "school_holiday                           int64\n",
       "store_type                              object\n",
       "assortment                              object\n",
       "competition_distance                   float64\n",
       "competition_open_since_month           float64\n",
       "competition_open_since_year            float64\n",
       "promo2                                   int64\n",
       "promo2_since_week                      float64\n",
       "promo2_since_year                      float64\n",
       "promo_interval                          object\n",
       "dtype: object"
      ]
     },
     "execution_count": 8,
     "metadata": {},
     "output_type": "execute_result"
    }
   ],
   "source": [
    "#Mudando DateTime\n",
    "df1['date'] = pd.to_datetime(df1['date'])\n",
    "\n",
    "#DataTypes\n",
    "df1.dtypes"
   ]
  },
  {
   "cell_type": "markdown",
   "id": "aa6f855c",
   "metadata": {},
   "source": [
    "## 1.4. Check NA"
   ]
  },
  {
   "cell_type": "code",
   "execution_count": 9,
   "id": "31932eb9",
   "metadata": {
    "ExecuteTime": {
     "end_time": "2021-06-22T17:58:41.588893Z",
     "start_time": "2021-06-22T17:58:41.391115Z"
    }
   },
   "outputs": [
    {
     "data": {
      "text/plain": [
       "store                                0\n",
       "day_of_week                          0\n",
       "date                                 0\n",
       "sales                                0\n",
       "customers                            0\n",
       "open                                 0\n",
       "promo                                0\n",
       "state_holiday                        0\n",
       "school_holiday                       0\n",
       "store_type                           0\n",
       "assortment                           0\n",
       "competition_distance              2642\n",
       "competition_open_since_month    323348\n",
       "competition_open_since_year     323348\n",
       "promo2                               0\n",
       "promo2_since_week               508031\n",
       "promo2_since_year               508031\n",
       "promo_interval                  508031\n",
       "dtype: int64"
      ]
     },
     "execution_count": 9,
     "metadata": {},
     "output_type": "execute_result"
    }
   ],
   "source": [
    "#checking Na\n",
    "df1.isna().sum()"
   ]
  },
  {
   "cell_type": "markdown",
   "id": "53a46cfb",
   "metadata": {},
   "source": [
    "## 1.5. Fill out NA"
   ]
  },
  {
   "cell_type": "code",
   "execution_count": 10,
   "id": "0c7f2581",
   "metadata": {
    "ExecuteTime": {
     "end_time": "2021-06-22T17:58:41.930431Z",
     "start_time": "2021-06-22T17:58:41.592407Z"
    }
   },
   "outputs": [
    {
     "data": {
      "text/html": [
       "<div>\n",
       "<style scoped>\n",
       "    .dataframe tbody tr th:only-of-type {\n",
       "        vertical-align: middle;\n",
       "    }\n",
       "\n",
       "    .dataframe tbody tr th {\n",
       "        vertical-align: top;\n",
       "    }\n",
       "\n",
       "    .dataframe thead th {\n",
       "        text-align: right;\n",
       "    }\n",
       "</style>\n",
       "<table border=\"1\" class=\"dataframe\">\n",
       "  <thead>\n",
       "    <tr style=\"text-align: right;\">\n",
       "      <th></th>\n",
       "      <th>store</th>\n",
       "      <th>day_of_week</th>\n",
       "      <th>date</th>\n",
       "      <th>sales</th>\n",
       "      <th>customers</th>\n",
       "      <th>open</th>\n",
       "      <th>promo</th>\n",
       "      <th>state_holiday</th>\n",
       "      <th>school_holiday</th>\n",
       "      <th>store_type</th>\n",
       "      <th>assortment</th>\n",
       "      <th>competition_distance</th>\n",
       "      <th>competition_open_since_month</th>\n",
       "      <th>competition_open_since_year</th>\n",
       "      <th>promo2</th>\n",
       "      <th>promo2_since_week</th>\n",
       "      <th>promo2_since_year</th>\n",
       "      <th>promo_interval</th>\n",
       "    </tr>\n",
       "  </thead>\n",
       "  <tbody>\n",
       "    <tr>\n",
       "      <th>559039</th>\n",
       "      <td>95</td>\n",
       "      <td>6</td>\n",
       "      <td>2014-02-15</td>\n",
       "      <td>4245</td>\n",
       "      <td>465</td>\n",
       "      <td>1</td>\n",
       "      <td>0</td>\n",
       "      <td>0</td>\n",
       "      <td>0</td>\n",
       "      <td>a</td>\n",
       "      <td>a</td>\n",
       "      <td>1890.0</td>\n",
       "      <td>10.0</td>\n",
       "      <td>2014.0</td>\n",
       "      <td>0</td>\n",
       "      <td>NaN</td>\n",
       "      <td>NaN</td>\n",
       "      <td>NaN</td>\n",
       "    </tr>\n",
       "  </tbody>\n",
       "</table>\n",
       "</div>"
      ],
      "text/plain": [
       "        store  day_of_week       date  sales  customers  open  promo state_holiday  school_holiday store_type assortment  competition_distance  competition_open_since_month  competition_open_since_year  promo2  promo2_since_week  promo2_since_year promo_interval\n",
       "559039     95            6 2014-02-15   4245        465     1      0             0               0          a          a                1890.0                          10.0                       2014.0       0                NaN                NaN            NaN"
      ]
     },
     "execution_count": 10,
     "metadata": {},
     "output_type": "execute_result"
    }
   ],
   "source": [
    "df1['competition_distance'].max()\n",
    "\n",
    "df1.sample()"
   ]
  },
  {
   "cell_type": "code",
   "execution_count": 11,
   "id": "0aaeb3ed",
   "metadata": {
    "ExecuteTime": {
     "end_time": "2021-06-22T18:00:43.976367Z",
     "start_time": "2021-06-22T17:58:41.933688Z"
    }
   },
   "outputs": [],
   "source": [
    "#competition_distance    \n",
    "df1['competition_distance'] = df1['competition_distance'].apply (lambda x: 200000.0 if math.isnan(x) else x)\n",
    "                                                              \n",
    "#competition_open_since_month\n",
    "df1['competition_open_since_month'] = df1.apply (lambda x: x['date'].month if math.isnan(x['competition_open_since_month']) else x['competition_open_since_month'], axis=1)\n",
    "\n",
    "#competition_open_since_year   \n",
    "df1['competition_open_since_year'] = df1.apply (lambda x: x['date'].year if math.isnan(x['competition_open_since_year']) else x['competition_open_since_year'], axis=1)\n",
    "\n",
    "#promo2_since_week \n",
    "df1['promo2_since_week'] = df1.apply (lambda x: x['date'].week if math.isnan(x['promo2_since_week']) else x['promo2_since_week'], axis=1)\n",
    "\n",
    "#promo2_since_year  \n",
    "df1['promo2_since_year'] = df1.apply (lambda x: x['date'].year if math.isnan(x['promo2_since_year']) else x['promo2_since_year'], axis=1)\n",
    "\n",
    "#promo_interval \n",
    "month_map = {1: 'Jan', 2: 'Fev', 3: 'Mar', 4: 'Apr', 5: 'May', 6: 'Jun', 7: 'Jul', 8: 'Ago', 9: 'Sep', 10: 'Oct', 11: 'Nov', 12: 'Dec'}\n",
    "\n",
    "df1['promo_interval'].fillna(0, inplace=True)\n",
    "\n",
    "df1['month_map'] = df1['date'].dt.month.map(month_map)\n",
    "\n",
    "df1['is_promo'] = df1[['promo_interval', 'month_map']].apply(lambda x: 0 if x['promo_interval'] == 0 else 1 if x['month_map'] in x['promo_interval'].split(',') else 0, axis=1)"
   ]
  },
  {
   "cell_type": "code",
   "execution_count": 12,
   "id": "65484d5a",
   "metadata": {
    "ExecuteTime": {
     "end_time": "2021-06-22T18:00:44.262284Z",
     "start_time": "2021-06-22T18:00:43.979246Z"
    }
   },
   "outputs": [
    {
     "data": {
      "text/plain": [
       "store                           0\n",
       "day_of_week                     0\n",
       "date                            0\n",
       "sales                           0\n",
       "customers                       0\n",
       "open                            0\n",
       "promo                           0\n",
       "state_holiday                   0\n",
       "school_holiday                  0\n",
       "store_type                      0\n",
       "assortment                      0\n",
       "competition_distance            0\n",
       "competition_open_since_month    0\n",
       "competition_open_since_year     0\n",
       "promo2                          0\n",
       "promo2_since_week               0\n",
       "promo2_since_year               0\n",
       "promo_interval                  0\n",
       "month_map                       0\n",
       "is_promo                        0\n",
       "dtype: int64"
      ]
     },
     "execution_count": 12,
     "metadata": {},
     "output_type": "execute_result"
    }
   ],
   "source": [
    "#checking NA\n",
    "df1.isna().sum()"
   ]
  },
  {
   "cell_type": "markdown",
   "id": "8e2fa470",
   "metadata": {},
   "source": [
    "## 1.6 Change Dtypes"
   ]
  },
  {
   "cell_type": "code",
   "execution_count": 13,
   "id": "840b8f96",
   "metadata": {
    "ExecuteTime": {
     "end_time": "2021-06-22T18:00:44.350036Z",
     "start_time": "2021-06-22T18:00:44.265891Z"
    }
   },
   "outputs": [
    {
     "data": {
      "text/plain": [
       "store                                    int64\n",
       "day_of_week                              int64\n",
       "date                            datetime64[ns]\n",
       "sales                                    int64\n",
       "customers                                int64\n",
       "open                                     int64\n",
       "promo                                    int64\n",
       "state_holiday                           object\n",
       "school_holiday                           int64\n",
       "store_type                              object\n",
       "assortment                              object\n",
       "competition_distance                   float64\n",
       "competition_open_since_month             int64\n",
       "competition_open_since_year              int64\n",
       "promo2                                   int64\n",
       "promo2_since_week                        int64\n",
       "promo2_since_year                        int64\n",
       "promo_interval                          object\n",
       "month_map                               object\n",
       "is_promo                                 int64\n",
       "dtype: object"
      ]
     },
     "execution_count": 13,
     "metadata": {},
     "output_type": "execute_result"
    }
   ],
   "source": [
    "df1['competition_open_since_month'] = df1['competition_open_since_month'].astype(int)\n",
    "df1['competition_open_since_year'] = df1['competition_open_since_year'].astype(int)\n",
    "\n",
    "df1['promo2_since_week'] = df1['promo2_since_week'].astype(int)\n",
    "df1['promo2_since_year'] = df1['promo2_since_year'].astype(int)\n",
    "\n",
    "df1.dtypes"
   ]
  },
  {
   "cell_type": "markdown",
   "id": "a04ef346",
   "metadata": {},
   "source": [
    "## 1.7 Descriptive Statiscal"
   ]
  },
  {
   "cell_type": "code",
   "execution_count": 14,
   "id": "09fbb2e8",
   "metadata": {
    "ExecuteTime": {
     "end_time": "2021-06-22T18:00:44.645869Z",
     "start_time": "2021-06-22T18:00:44.353477Z"
    }
   },
   "outputs": [],
   "source": [
    "num_attribute = df1.select_dtypes (include=['int64', 'float64'])\n",
    "cat_attribute = df1.select_dtypes (exclude=['int64', 'float64','datetime64[ns]'])"
   ]
  },
  {
   "cell_type": "markdown",
   "id": "2c9ef5c6",
   "metadata": {},
   "source": [
    "## 1.7.1 Numerical Statiscal"
   ]
  },
  {
   "cell_type": "code",
   "execution_count": 15,
   "id": "d76f8acc",
   "metadata": {
    "ExecuteTime": {
     "end_time": "2021-06-22T18:00:49.772182Z",
     "start_time": "2021-06-22T18:00:44.651166Z"
    }
   },
   "outputs": [
    {
     "data": {
      "text/html": [
       "<div>\n",
       "<style scoped>\n",
       "    .dataframe tbody tr th:only-of-type {\n",
       "        vertical-align: middle;\n",
       "    }\n",
       "\n",
       "    .dataframe tbody tr th {\n",
       "        vertical-align: top;\n",
       "    }\n",
       "\n",
       "    .dataframe thead th {\n",
       "        text-align: right;\n",
       "    }\n",
       "</style>\n",
       "<table border=\"1\" class=\"dataframe\">\n",
       "  <thead>\n",
       "    <tr style=\"text-align: right;\">\n",
       "      <th></th>\n",
       "      <th>attributes</th>\n",
       "      <th>min</th>\n",
       "      <th>max</th>\n",
       "      <th>range</th>\n",
       "      <th>mean</th>\n",
       "      <th>median</th>\n",
       "      <th>std</th>\n",
       "      <th>skew</th>\n",
       "      <th>kurtosis</th>\n",
       "    </tr>\n",
       "  </thead>\n",
       "  <tbody>\n",
       "    <tr>\n",
       "      <th>0</th>\n",
       "      <td>store</td>\n",
       "      <td>1.0</td>\n",
       "      <td>1115.0</td>\n",
       "      <td>1114.0</td>\n",
       "      <td>558.429727</td>\n",
       "      <td>558.0</td>\n",
       "      <td>321.908493</td>\n",
       "      <td>-0.000955</td>\n",
       "      <td>-1.200524</td>\n",
       "    </tr>\n",
       "    <tr>\n",
       "      <th>1</th>\n",
       "      <td>day_of_week</td>\n",
       "      <td>1.0</td>\n",
       "      <td>7.0</td>\n",
       "      <td>6.0</td>\n",
       "      <td>3.998341</td>\n",
       "      <td>4.0</td>\n",
       "      <td>1.997390</td>\n",
       "      <td>0.001593</td>\n",
       "      <td>-1.246873</td>\n",
       "    </tr>\n",
       "    <tr>\n",
       "      <th>2</th>\n",
       "      <td>sales</td>\n",
       "      <td>0.0</td>\n",
       "      <td>41551.0</td>\n",
       "      <td>41551.0</td>\n",
       "      <td>5773.818972</td>\n",
       "      <td>5744.0</td>\n",
       "      <td>3849.924283</td>\n",
       "      <td>0.641460</td>\n",
       "      <td>1.778375</td>\n",
       "    </tr>\n",
       "    <tr>\n",
       "      <th>3</th>\n",
       "      <td>customers</td>\n",
       "      <td>0.0</td>\n",
       "      <td>7388.0</td>\n",
       "      <td>7388.0</td>\n",
       "      <td>633.145946</td>\n",
       "      <td>609.0</td>\n",
       "      <td>464.411506</td>\n",
       "      <td>1.598650</td>\n",
       "      <td>7.091773</td>\n",
       "    </tr>\n",
       "    <tr>\n",
       "      <th>4</th>\n",
       "      <td>open</td>\n",
       "      <td>0.0</td>\n",
       "      <td>1.0</td>\n",
       "      <td>1.0</td>\n",
       "      <td>0.830107</td>\n",
       "      <td>1.0</td>\n",
       "      <td>0.375539</td>\n",
       "      <td>-1.758045</td>\n",
       "      <td>1.090723</td>\n",
       "    </tr>\n",
       "    <tr>\n",
       "      <th>5</th>\n",
       "      <td>promo</td>\n",
       "      <td>0.0</td>\n",
       "      <td>1.0</td>\n",
       "      <td>1.0</td>\n",
       "      <td>0.381515</td>\n",
       "      <td>0.0</td>\n",
       "      <td>0.485758</td>\n",
       "      <td>0.487838</td>\n",
       "      <td>-1.762018</td>\n",
       "    </tr>\n",
       "    <tr>\n",
       "      <th>6</th>\n",
       "      <td>school_holiday</td>\n",
       "      <td>0.0</td>\n",
       "      <td>1.0</td>\n",
       "      <td>1.0</td>\n",
       "      <td>0.178647</td>\n",
       "      <td>0.0</td>\n",
       "      <td>0.383056</td>\n",
       "      <td>1.677842</td>\n",
       "      <td>0.815154</td>\n",
       "    </tr>\n",
       "    <tr>\n",
       "      <th>7</th>\n",
       "      <td>competition_distance</td>\n",
       "      <td>20.0</td>\n",
       "      <td>200000.0</td>\n",
       "      <td>199980.0</td>\n",
       "      <td>5935.442677</td>\n",
       "      <td>2330.0</td>\n",
       "      <td>12547.646829</td>\n",
       "      <td>10.242344</td>\n",
       "      <td>147.789712</td>\n",
       "    </tr>\n",
       "    <tr>\n",
       "      <th>8</th>\n",
       "      <td>competition_open_since_month</td>\n",
       "      <td>1.0</td>\n",
       "      <td>12.0</td>\n",
       "      <td>11.0</td>\n",
       "      <td>6.786849</td>\n",
       "      <td>7.0</td>\n",
       "      <td>3.311085</td>\n",
       "      <td>-0.042076</td>\n",
       "      <td>-1.232607</td>\n",
       "    </tr>\n",
       "    <tr>\n",
       "      <th>9</th>\n",
       "      <td>competition_open_since_year</td>\n",
       "      <td>1900.0</td>\n",
       "      <td>2015.0</td>\n",
       "      <td>115.0</td>\n",
       "      <td>2010.324840</td>\n",
       "      <td>2012.0</td>\n",
       "      <td>5.515591</td>\n",
       "      <td>-7.235657</td>\n",
       "      <td>124.071304</td>\n",
       "    </tr>\n",
       "    <tr>\n",
       "      <th>10</th>\n",
       "      <td>promo2</td>\n",
       "      <td>0.0</td>\n",
       "      <td>1.0</td>\n",
       "      <td>1.0</td>\n",
       "      <td>0.500564</td>\n",
       "      <td>1.0</td>\n",
       "      <td>0.500000</td>\n",
       "      <td>-0.002255</td>\n",
       "      <td>-1.999999</td>\n",
       "    </tr>\n",
       "    <tr>\n",
       "      <th>11</th>\n",
       "      <td>promo2_since_week</td>\n",
       "      <td>1.0</td>\n",
       "      <td>52.0</td>\n",
       "      <td>51.0</td>\n",
       "      <td>23.619033</td>\n",
       "      <td>22.0</td>\n",
       "      <td>14.310057</td>\n",
       "      <td>0.178723</td>\n",
       "      <td>-1.184046</td>\n",
       "    </tr>\n",
       "    <tr>\n",
       "      <th>12</th>\n",
       "      <td>promo2_since_year</td>\n",
       "      <td>2009.0</td>\n",
       "      <td>2015.0</td>\n",
       "      <td>6.0</td>\n",
       "      <td>2012.793297</td>\n",
       "      <td>2013.0</td>\n",
       "      <td>1.662657</td>\n",
       "      <td>-0.784436</td>\n",
       "      <td>-0.210075</td>\n",
       "    </tr>\n",
       "    <tr>\n",
       "      <th>13</th>\n",
       "      <td>is_promo</td>\n",
       "      <td>0.0</td>\n",
       "      <td>1.0</td>\n",
       "      <td>1.0</td>\n",
       "      <td>0.147947</td>\n",
       "      <td>0.0</td>\n",
       "      <td>0.355047</td>\n",
       "      <td>1.983135</td>\n",
       "      <td>1.932829</td>\n",
       "    </tr>\n",
       "  </tbody>\n",
       "</table>\n",
       "</div>"
      ],
      "text/plain": [
       "                      attributes     min       max     range         mean  median           std       skew    kurtosis\n",
       "0                          store     1.0    1115.0    1114.0   558.429727   558.0    321.908493  -0.000955   -1.200524\n",
       "1                    day_of_week     1.0       7.0       6.0     3.998341     4.0      1.997390   0.001593   -1.246873\n",
       "2                          sales     0.0   41551.0   41551.0  5773.818972  5744.0   3849.924283   0.641460    1.778375\n",
       "3                      customers     0.0    7388.0    7388.0   633.145946   609.0    464.411506   1.598650    7.091773\n",
       "4                           open     0.0       1.0       1.0     0.830107     1.0      0.375539  -1.758045    1.090723\n",
       "5                          promo     0.0       1.0       1.0     0.381515     0.0      0.485758   0.487838   -1.762018\n",
       "6                 school_holiday     0.0       1.0       1.0     0.178647     0.0      0.383056   1.677842    0.815154\n",
       "7           competition_distance    20.0  200000.0  199980.0  5935.442677  2330.0  12547.646829  10.242344  147.789712\n",
       "8   competition_open_since_month     1.0      12.0      11.0     6.786849     7.0      3.311085  -0.042076   -1.232607\n",
       "9    competition_open_since_year  1900.0    2015.0     115.0  2010.324840  2012.0      5.515591  -7.235657  124.071304\n",
       "10                        promo2     0.0       1.0       1.0     0.500564     1.0      0.500000  -0.002255   -1.999999\n",
       "11             promo2_since_week     1.0      52.0      51.0    23.619033    22.0     14.310057   0.178723   -1.184046\n",
       "12             promo2_since_year  2009.0    2015.0       6.0  2012.793297  2013.0      1.662657  -0.784436   -0.210075\n",
       "13                      is_promo     0.0       1.0       1.0     0.147947     0.0      0.355047   1.983135    1.932829"
      ]
     },
     "execution_count": 15,
     "metadata": {},
     "output_type": "execute_result"
    }
   ],
   "source": [
    "#Central Tendency - mean, median \n",
    "ct1 = pd.DataFrame(num_attribute.apply(np.mean)).T\n",
    "ct2 = pd.DataFrame(num_attribute.apply(np.median)).T\n",
    "\n",
    "#Dispersion - std, min, max, range, skew, kurtosis\n",
    "\n",
    "d1 = pd.DataFrame(num_attribute.apply(np.std)).T\n",
    "d2 = pd.DataFrame(num_attribute.apply(min)).T\n",
    "d3 = pd.DataFrame(num_attribute.apply(max)).T\n",
    "d4 = pd.DataFrame(num_attribute.apply(lambda x: x.max() - x.min())).T\n",
    "d5 = pd.DataFrame(num_attribute.apply(lambda x: x.skew())).T\n",
    "d6 = pd.DataFrame(num_attribute.apply(lambda x: x.kurtosis())).T\n",
    "                  \n",
    "#concat\n",
    "m = pd.concat([d2,d3,d4,ct1,ct2,d1,d5,d6]).T.reset_index()\n",
    "m.columns = ['attributes' ,'min' ,'max' ,'range' ,'mean' ,'median' ,'std' ,'skew' ,'kurtosis']\n",
    "m"
   ]
  },
  {
   "cell_type": "code",
   "execution_count": 16,
   "id": "cbc5793b",
   "metadata": {
    "ExecuteTime": {
     "end_time": "2021-06-22T18:00:53.404932Z",
     "start_time": "2021-06-22T18:00:49.775917Z"
    }
   },
   "outputs": [
    {
     "name": "stderr",
     "output_type": "stream",
     "text": [
      "/Library/Frameworks/Python.framework/Versions/3.7/lib/python3.7/site-packages/seaborn/distributions.py:2557: FutureWarning: `distplot` is a deprecated function and will be removed in a future version. Please adapt your code to use either `displot` (a figure-level function with similar flexibility) or `histplot` (an axes-level function for histograms).\n",
      "  warnings.warn(msg, FutureWarning)\n"
     ]
    },
    {
     "data": {
      "text/plain": [
       "<AxesSubplot:xlabel='competition_distance', ylabel='Density'>"
      ]
     },
     "execution_count": 16,
     "metadata": {},
     "output_type": "execute_result"
    },
    {
     "data": {
      "image/png": "[encoded data removed]",
      "text/plain": [
       "<Figure size 1800x864 with 1 Axes>"
      ]
     },
     "metadata": {},
     "output_type": "display_data"
    }
   ],
   "source": [
    "sns.distplot(df1['competition_distance'])"
   ]
  },
  {
   "cell_type": "markdown",
   "id": "4fb07b02",
   "metadata": {},
   "source": [
    "## 1.7.2 Categorical Statiscal"
   ]
  },
  {
   "cell_type": "code",
   "execution_count": 17,
   "id": "a6526d1a",
   "metadata": {
    "ExecuteTime": {
     "end_time": "2021-06-22T18:00:53.699983Z",
     "start_time": "2021-06-22T18:00:53.415637Z"
    }
   },
   "outputs": [
    {
     "data": {
      "text/plain": [
       "state_holiday      4\n",
       "store_type         4\n",
       "assortment         3\n",
       "promo_interval     4\n",
       "month_map         12\n",
       "dtype: int64"
      ]
     },
     "execution_count": 17,
     "metadata": {},
     "output_type": "execute_result"
    }
   ],
   "source": [
    "cat_attribute.apply( lambda x: x.unique().shape[0])"
   ]
  },
  {
   "cell_type": "code",
   "execution_count": 18,
   "id": "46ad58c4",
   "metadata": {
    "ExecuteTime": {
     "end_time": "2021-06-22T18:00:54.636144Z",
     "start_time": "2021-06-22T18:00:53.705080Z"
    }
   },
   "outputs": [
    {
     "data": {
      "text/plain": [
       "<AxesSubplot:xlabel='assortment', ylabel='sales'>"
      ]
     },
     "execution_count": 18,
     "metadata": {},
     "output_type": "execute_result"
    },
    {
     "data": {
      "image/png": "[encoded data removed]",
      "text/plain": [
       "<Figure size 1800x864 with 3 Axes>"
      ]
     },
     "metadata": {},
     "output_type": "display_data"
    }
   ],
   "source": [
    "aux1 = df1[(df1['state_holiday'] != '0' ) & (df1['sales']>0)]\n",
    "\n",
    "plt.subplot(1,3,1)\n",
    "sns.boxplot(x='state_holiday', y='sales' ,  data=aux1)\n",
    "\n",
    "plt.subplot(1,3,2)\n",
    "sns.boxplot(x='store_type', y='sales' ,  data=aux1)\n",
    "\n",
    "plt.subplot(1,3,3)\n",
    "sns.boxplot(x='assortment', y='sales' ,  data=aux1)"
   ]
  },
  {
   "cell_type": "markdown",
   "id": "85a83213",
   "metadata": {
    "heading_collapsed": true
   },
   "source": [
    "# 2.0 Criacao de Hipoteses"
   ]
  },
  {
   "cell_type": "code",
   "execution_count": 19,
   "id": "ba2754da",
   "metadata": {
    "ExecuteTime": {
     "end_time": "2021-06-22T18:00:54.751949Z",
     "start_time": "2021-06-22T18:00:54.642534Z"
    },
    "hidden": true
   },
   "outputs": [],
   "source": [
    "df2 = df1.copy()"
   ]
  },
  {
   "cell_type": "markdown",
   "id": "9991d2ac",
   "metadata": {
    "hidden": true
   },
   "source": [
    "## 2.1.1 Hipoteses Loja\n",
    "\n",
    "**1.** Lojas com Maior Quadro de Funcionarios, deveriam vender mais.\n",
    "\n",
    "**2.** Lojas com Maior Estoque, deveriam Vender mais.\n",
    "\n",
    "**3** Lojas com Maior Porte, deveriam vender mais.\n",
    "\n",
    "**4** Lojas com menor Porte, deveriam vender menos.\n",
    "\n",
    "**5** Lojas com maior sortimento, deveriam vender mais."
   ]
  },
  {
   "cell_type": "markdown",
   "id": "fed6ff74",
   "metadata": {
    "hidden": true
   },
   "source": [
    "## 2.1.2 Hipoteses Produto\n",
    "\n",
    "**1.** Lojas que investem mais em Marketing, deveriam vender mais.\n",
    "\n",
    "**2.** Lojas que Expoem mais o Produto nas Vitrine, deveriam vender mais.\n",
    "\n",
    "**3.** Lojas que tem precos menores nos produtos, deveriam vender mais.\n",
    "\n",
    "**4.** Lojas que tem precos menores em mais tempo, deveriam vender mais."
   ]
  },
  {
   "cell_type": "markdown",
   "id": "e01d4d8a",
   "metadata": {
    "hidden": true
   },
   "source": [
    "## 2.1.3 Hipoteses Tempo\n",
    "\n",
    "**1.** Lojas que tem mais possuem mais Feriado, deveriam vender menos.\n",
    "\n",
    "**2.** Lojas que abrem no primeiro 6m, deveriam vender mais\n",
    "\n",
    "**3.** Lojas que abrem nos finais de semana, deveriam vender mais."
   ]
  },
  {
   "cell_type": "markdown",
   "id": "39f6915d",
   "metadata": {
    "hidden": true
   },
   "source": [
    "## 2.3. Lista Final de Hipoteses\n",
    "\n",
    "**1.** Lojas com maior sortimentos deveriam vender mais.\n",
    "\n",
    "**2.** Lojas com competidores mais próximos deveriam vender menos.\n",
    "\n",
    "**3.** Lojas com competidores à mais tempo deveriam vendem mais.\n",
    "\n",
    "**4.** Lojas com promoções ativas por mais tempo deveriam vender mais.\n",
    "\n",
    "**5.** Lojas com mais dias de promoção deveriam vender mais.\n",
    "\n",
    "**7.** Lojas com mais promoções consecutivas deveriam vender mais.\n",
    "\n",
    "**8.** Lojas abertas durante o feriado de Natal deveriam vender mais.\n",
    "\n",
    "**9.** Lojas deveriam vender mais ao longo dos anos.\n",
    "\n",
    "**10.** Lojas deveriam vender mais no segundo semestre do ano.\n",
    "\n",
    "**11.** Lojas deveriam vender mais depois do dia 10 de cada mês.\n",
    "\n",
    "**12.** Lojas deveriam vender menos aos finais de semana.\n",
    "\n",
    "**13.** Lojas deveriam vender menos durante os feriados escolares."
   ]
  },
  {
   "cell_type": "markdown",
   "id": "9a965223",
   "metadata": {
    "hidden": true
   },
   "source": [
    "## 2.4. Feature Engineering"
   ]
  },
  {
   "cell_type": "code",
   "execution_count": null,
   "id": "2cf8d4e4",
   "metadata": {
    "ExecuteTime": {
     "start_time": "2021-06-22T18:01:07.453Z"
    },
    "hidden": true
   },
   "outputs": [
    {
     "name": "stderr",
     "output_type": "stream",
     "text": [
      "/Library/Frameworks/Python.framework/Versions/3.7/lib/python3.7/site-packages/ipykernel_launcher.py:11: FutureWarning: Series.dt.weekofyear and Series.dt.week have been deprecated.  Please use Series.dt.isocalendar().week instead.\n",
      "  # This is added back by InteractiveShellApp.init_path()\n"
     ]
    }
   ],
   "source": [
    "# year\n",
    "df2['year'] = df2['date'].dt.year\n",
    "\n",
    "# month\n",
    "df2['month'] = df2['date'].dt.month\n",
    "\n",
    "# day\n",
    "df2['day'] = df2['date'].dt.day\n",
    "\n",
    "# week of year\n",
    "df2['week_of_year'] = df2['date'].dt.weekofyear\n",
    "\n",
    "# year week\n",
    "df2['year_week'] = df2['date'].dt.strftime( '%Y-%W' )\n",
    "\n",
    "# competition since\n",
    "df2['competition_since'] = df2.apply( lambda x: datetime.datetime( year=x['competition_open_since_year'], \n",
    "                                                                  month=x['competition_open_since_month'],day=1 ), axis=1 )\n",
    "\n",
    "df2['competition_time_month'] = ( ( df2['date'] - df2['competition_since'] )/30 ).apply( lambda x: x.days ).astype( int )\n",
    "\n",
    "# promo since\n",
    "df2['promo_since'] = df2['promo2_since_year'].astype( str ) + '-' + df2['promo2_since_week'].astype( str )\n",
    "df2['promo_since'] = df2['promo_since'].apply( lambda x: datetime.datetime.strptime( x + '-1', '%Y-%W-%w' ) - datetime.timedelta( days=7 ) )\n",
    "df2['promo_time_week'] = ( ( df2['date'] - df2['promo_since'] )/7 ).apply( lambda x: x.days ).astype( int )\n",
    "\n",
    "# assortment\n",
    "df2['assortment'] = df2['assortment'].apply( lambda x: 'basic' if x == 'a' else 'extra' if x == 'b' else 'extended' )\n",
    "\n",
    "# state holiday\n",
    "df2['state_holiday'] = df2['state_holiday'].apply( lambda x: 'public_holiday' if x == 'a' else 'easter_holiday' if x == 'b' \n",
    "                                                  else 'christmas' if x == 'c' else 'regular_day' )\n"
   ]
  },
  {
   "cell_type": "markdown",
   "id": "abcd5a48",
   "metadata": {
    "heading_collapsed": true
   },
   "source": [
    "# 3.0. Filtragem de Variaveis"
   ]
  },
  {
   "cell_type": "code",
   "execution_count": null,
   "id": "8d3dbca3",
   "metadata": {
    "hidden": true
   },
   "outputs": [],
   "source": [
    "df3 = df2.copy()"
   ]
  },
  {
   "cell_type": "markdown",
   "id": "8baa76d4",
   "metadata": {
    "hidden": true
   },
   "source": [
    "## 3.1. Filtragem das Linhas"
   ]
  },
  {
   "cell_type": "code",
   "execution_count": null,
   "id": "b9dc112e",
   "metadata": {
    "hidden": true
   },
   "outputs": [],
   "source": [
    "df3 = df3[(df3['open'] != 0) & (df3['sales'] > 0)]"
   ]
  },
  {
   "cell_type": "markdown",
   "id": "15403f08",
   "metadata": {
    "hidden": true
   },
   "source": [
    "## 3.2. Selecao das Colunas"
   ]
  },
  {
   "cell_type": "code",
   "execution_count": null,
   "id": "8bed265c",
   "metadata": {
    "hidden": true
   },
   "outputs": [],
   "source": [
    "cols_drop = ['customers', 'open', 'promo_interval', 'month_map']\n",
    "df3 = df3.drop( cols_drop, axis=1 )"
   ]
  },
  {
   "cell_type": "code",
   "execution_count": null,
   "id": "ea0e05a6",
   "metadata": {
    "hidden": true
   },
   "outputs": [],
   "source": [
    "df3.head()"
   ]
  },
  {
   "cell_type": "markdown",
   "id": "56903332",
   "metadata": {
    "heading_collapsed": true
   },
   "source": [
    "# 4.0  Analise Exploratoria do Dados"
   ]
  },
  {
   "cell_type": "code",
   "execution_count": null,
   "id": "956e4f61",
   "metadata": {
    "hidden": true
   },
   "outputs": [],
   "source": [
    "df4 = df3.copy()"
   ]
  },
  {
   "cell_type": "markdown",
   "id": "9cc92817",
   "metadata": {
    "hidden": true
   },
   "source": [
    "## 4.1 - Analise Univariada"
   ]
  },
  {
   "cell_type": "markdown",
   "id": "1392ff3c",
   "metadata": {
    "hidden": true
   },
   "source": [
    "### 4.1.1 - Response Variable"
   ]
  },
  {
   "cell_type": "code",
   "execution_count": null,
   "id": "c1e83f39",
   "metadata": {
    "hidden": true
   },
   "outputs": [],
   "source": [
    "sns.distplot(df4['sales'])"
   ]
  },
  {
   "cell_type": "markdown",
   "id": "c6992c01",
   "metadata": {
    "hidden": true
   },
   "source": [
    "### 4.1.2 - Numerical Variable"
   ]
  },
  {
   "cell_type": "code",
   "execution_count": null,
   "id": "aedae4ff",
   "metadata": {
    "hidden": true
   },
   "outputs": [],
   "source": [
    "num_attribute.hist(bins=25);"
   ]
  },
  {
   "cell_type": "markdown",
   "id": "7bbd2146",
   "metadata": {
    "hidden": true
   },
   "source": [
    "### 4.1.3 - Categorical Variable"
   ]
  },
  {
   "cell_type": "code",
   "execution_count": null,
   "id": "44a55a7e",
   "metadata": {
    "hidden": true
   },
   "outputs": [],
   "source": [
    "df4['assortment'].drop_duplicates()"
   ]
  },
  {
   "cell_type": "code",
   "execution_count": null,
   "id": "b35d63db",
   "metadata": {
    "hidden": true
   },
   "outputs": [],
   "source": [
    "#state_holiday\n",
    "plt.subplot(2,2,1)\n",
    "a = df4[df4['state_holiday'] != 'regular_day']\n",
    "sns.countplot(a['state_holiday'])\n",
    "\n",
    "plt.subplot(2,2,2)\n",
    "sns.kdeplot (df4[df4['state_holiday'] == 'public_holiday']['sales'], label='public_holiday', shade=True)\n",
    "sns.kdeplot (df4[df4['state_holiday'] == 'easter_holiday']['sales'], label='easter_holiday', shade=True)\n",
    "sns.kdeplot (df4[df4['state_holiday'] == 'christmas']['sales'],  label='christmas', shade=True)\n",
    "\n",
    "#store_type\n",
    "\n",
    "plt.subplot(3,2,3)\n",
    "sns.countplot(df4['store_type'])\n",
    "\n",
    "plt.subplot(3,2,4)\n",
    "sns.kdeplot (df4[df4['store_type'] == 'a']['sales'],  label='a', shade=True)\n",
    "sns.kdeplot (df4[df4['store_type'] == 'b']['sales'],  label='b', shade=True)\n",
    "sns.kdeplot (df4[df4['store_type'] == 'c']['sales'],  label='c', shade=True)\n",
    "sns.kdeplot (df4[df4['store_type'] == 'd']['sales'],  label='d', shade=True)\n",
    "\n",
    "#assortment\n",
    "\n",
    "plt.subplot(3,2,5)\n",
    "sns.countplot(df4['assortment'])\n",
    "\n",
    "plt.subplot(3,2,6)\n",
    "sns.kdeplot (df4[df4['assortment'] == 'basic']['sales'],  label='basic', shade=True)\n",
    "sns.kdeplot (df4[df4['assortment'] == 'extended']['sales'],  label='extended', shade=True)\n",
    "sns.kdeplot (df4[df4['assortment'] == 'extra']['sales'],  label='extra', shade=True)"
   ]
  },
  {
   "cell_type": "markdown",
   "id": "1284899d",
   "metadata": {
    "hidden": true
   },
   "source": [
    "## 4.2 - Analise Bivariada"
   ]
  },
  {
   "cell_type": "markdown",
   "id": "076a2269",
   "metadata": {
    "hidden": true
   },
   "source": [
    "### H1. Lojas com maior sortimentos deveriam vender mais.\n",
    "\n",
    "False: Lojas com maior sortimentos vendem menos"
   ]
  },
  {
   "cell_type": "code",
   "execution_count": null,
   "id": "cb0bed55",
   "metadata": {
    "hidden": true
   },
   "outputs": [],
   "source": [
    "aux1 = df4[['assortment','sales']].groupby('assortment').sum().reset_index()\n",
    "sns.barplot( x='assortment' , y='sales', data=aux1);\n",
    "\n",
    "aux2 = df4[['year_week','assortment','sales']].groupby(['year_week','assortment']).sum().reset_index()\n",
    "aux2.pivot( index='year_week'  , columns='assortment' , values='sales').plot()\n",
    "\n",
    "aux3 = aux2[aux2['assortment'] == 'extra']\n",
    "aux3.pivot( index='year_week'  , columns='assortment' , values='sales').plot()"
   ]
  },
  {
   "cell_type": "markdown",
   "id": "8029779f",
   "metadata": {
    "hidden": true
   },
   "source": [
    "### H2. Lojas com competidores mais próximos deveriam vender menos.\n",
    "\n",
    "False- Lojas com COMPETIDORES MAIS PROXIMOS, vendem MAIS"
   ]
  },
  {
   "cell_type": "code",
   "execution_count": null,
   "id": "248c270d",
   "metadata": {
    "hidden": true
   },
   "outputs": [],
   "source": [
    "aux1= df4[['competition_distance','sales']].groupby('competition_distance').sum().reset_index()\n",
    "\n",
    "plt.subplot(1,3,1)\n",
    "sns.scatterplot(x='competition_distance', y='sales', data=aux1)\n",
    "\n",
    "plt.subplot(1,3,2)\n",
    "bins = list(np.arange(0, 20000, 1000))\n",
    "aux1['competition_distance_binned'] = pd.cut(aux1['competition_distance'], bins=bins)\n",
    "aux2= aux1[['competition_distance_binned','sales']].groupby('competition_distance_binned').sum().reset_index()\n",
    "sns.barplot( x='competition_distance_binned' , y='sales', data=aux2);\n",
    "plt.xticks(rotation=90);\n",
    "\n",
    "plt.subplot(1,3,3)\n",
    "sns.heatmap(aux1.corr(method='pearson'), annot=True);\n"
   ]
  },
  {
   "cell_type": "markdown",
   "id": "3b85eb92",
   "metadata": {
    "hidden": true
   },
   "source": [
    "### H3 Lojas com competidores à mais tempo deveriam vendem mais.\n",
    "\n",
    "False:  Lojas com Competidores a MAIS TEMPOS, VENDEM a MENOS"
   ]
  },
  {
   "cell_type": "code",
   "execution_count": null,
   "id": "add9fa27",
   "metadata": {
    "hidden": true
   },
   "outputs": [],
   "source": [
    "plt.subplot(1,3,1)\n",
    "aux1= df4[['competition_time_month','sales']].groupby('competition_time_month').sum().reset_index()\n",
    "aux2 = aux1[(aux1['competition_time_month'] < 120) & (aux1['competition_time_month'] != 0)]\n",
    "sns.barplot (x='competition_time_month', y='sales', data=aux2);\n",
    "plt.xticks(rotation=90);\n",
    "\n",
    "plt.subplot(1,3,2)\n",
    "sns.regplot (x='competition_time_month', y='sales', data=aux2);\n",
    "\n",
    "plt.subplot(1,3,3)\n",
    "sns.heatmap(aux1.corr(method='pearson'), annot=True);\n"
   ]
  },
  {
   "cell_type": "markdown",
   "id": "8f15bd51",
   "metadata": {
    "hidden": true
   },
   "source": [
    "### H4. Lojas com promoções ativas por mais tempo deveriam vender mais.\n",
    "\n",
    "Falsa, lojas com promocoes ativas VENDEM MENOS, depois de um PERIODO DE PROMOCAO"
   ]
  },
  {
   "cell_type": "code",
   "execution_count": null,
   "id": "8797cd9a",
   "metadata": {
    "hidden": true
   },
   "outputs": [],
   "source": [
    "aux1= df4[['promo_time_week','sales']].groupby('promo_time_week').sum().reset_index()\n",
    "\n",
    "\n",
    "grid = GridSpec(2,3)\n",
    "\n",
    "plt.subplot(grid[0,0]) \n",
    "aux2 = aux1[aux1['promo_time_week']> 0] #promo extendido\n",
    "sns.barplot(x='promo_time_week',y='sales', data=aux2);\n",
    "plt.xticks(rotation=90);\n",
    "\n",
    "plt.subplot(grid[0,1])\n",
    "sns.regplot(x='promo_time_week',y='sales', data=aux2);\n",
    "\n",
    "plt.subplot(grid[1,0])\n",
    "aux3 = aux1[aux1['promo_time_week']< 0] #promo regular\n",
    "sns.barplot(x='promo_time_week',y='sales', data=aux3);\n",
    "plt.xticks(rotation=90);\n",
    "\n",
    "plt.subplot(grid[1,1])\n",
    "sns.regplot(x='promo_time_week',y='sales', data=aux3);\n",
    "\n",
    "plt.subplot(grid[:,2])\n",
    "sns.heatmap(aux1.corr( method='pearson'), annot=True);\n",
    "\n"
   ]
  },
  {
   "cell_type": "markdown",
   "id": "6c90c413",
   "metadata": {
    "hidden": true
   },
   "source": [
    "### H5. Lojas com mais dias de promoção deveriam vender mais."
   ]
  },
  {
   "cell_type": "code",
   "execution_count": null,
   "id": "297bbc99",
   "metadata": {
    "hidden": true
   },
   "outputs": [],
   "source": []
  },
  {
   "cell_type": "markdown",
   "id": "d8de3ea1",
   "metadata": {
    "hidden": true
   },
   "source": [
    "### H6. Lojas com mais promoções consecutivas deveriam vender mais.\n",
    "\n",
    "Falsa, lojas com MAIS PROMOCOES EXTENDIDAS, VENDEM MENOS"
   ]
  },
  {
   "cell_type": "code",
   "execution_count": null,
   "id": "9841ea88",
   "metadata": {
    "hidden": true
   },
   "outputs": [],
   "source": [
    "df4[['promo','promo2','sales']].groupby(['promo','promo2']).sum().reset_index()"
   ]
  },
  {
   "cell_type": "markdown",
   "id": "812f31fe",
   "metadata": {
    "hidden": true
   },
   "source": [
    "### H8. Lojas abertas durante o feriado de Natal deveriam vender mais.\n",
    "\n",
    "Falsa, não vende mais."
   ]
  },
  {
   "cell_type": "code",
   "execution_count": null,
   "id": "901a71b6",
   "metadata": {
    "hidden": true
   },
   "outputs": [],
   "source": [
    "plt.subplot(1,2,1)\n",
    "aux = df4[df4['state_holiday']!= 'regular_day']\n",
    "aux1 = aux[['state_holiday','sales']].groupby('state_holiday').sum().reset_index()\n",
    "sns.barplot(x='state_holiday', y='sales', data=aux1);\n",
    "\n",
    "plt.subplot(1,2,2)\n",
    "aux2 = aux[['year','state_holiday','sales']].groupby(['year','state_holiday']).sum().reset_index()\n",
    "sns.barplot(x='year', y='sales', hue='state_holiday', data=aux2);\n"
   ]
  },
  {
   "cell_type": "markdown",
   "id": "8a73925f",
   "metadata": {
    "hidden": true
   },
   "source": [
    "### H9. Lojas deveriam vender mais ao longo dos anos.\n",
    "\n",
    "Falsa, Lojas vendem menos"
   ]
  },
  {
   "cell_type": "code",
   "execution_count": null,
   "id": "c28d6b76",
   "metadata": {
    "hidden": true
   },
   "outputs": [],
   "source": [
    "aux3 = df4[['year','sales']].groupby('year').sum().reset_index()\n",
    "\n",
    "plt.subplot(1,3,1)\n",
    "sns.barplot(x='year', y='sales', data=aux3);\n",
    "\n",
    "plt.subplot(1,3,2)\n",
    "sns.regplot(x='year', y='sales', data=aux3);\n",
    "\n",
    "plt.subplot(1,3,3)\n",
    "sns.heatmap(aux3.corr(method ='pearson'), annot=True);\n"
   ]
  },
  {
   "cell_type": "markdown",
   "id": "abc52378",
   "metadata": {
    "hidden": true
   },
   "source": [
    "### H10. Lojas deveriam vender mais no segundo semestre do ano.\n",
    "\n",
    "FALSA, As lojas vendem menos no 2. Semestre"
   ]
  },
  {
   "cell_type": "code",
   "execution_count": null,
   "id": "173b4830",
   "metadata": {
    "hidden": true
   },
   "outputs": [],
   "source": [
    "aux3 = df4[['month','sales']].groupby('month').sum().reset_index()\n",
    "\n",
    "plt.subplot(1,3,1)\n",
    "sns.barplot(x='month', y='sales', data=aux3);\n",
    "\n",
    "plt.subplot(1,3,2)\n",
    "sns.regplot(x='month', y='sales', data=aux3);\n",
    "\n",
    "plt.subplot(1,3,3)\n",
    "sns.heatmap(aux3.corr(method ='pearson'), annot=True);\n"
   ]
  },
  {
   "cell_type": "markdown",
   "id": "72941059",
   "metadata": {
    "hidden": true
   },
   "source": [
    "###  11. Lojas deveriam vender mais depois do dia 10 de cada mês.\n",
    " Verdadeira, porque as lojas VENDEM mais depois do dia 10"
   ]
  },
  {
   "cell_type": "code",
   "execution_count": null,
   "id": "27f73c40",
   "metadata": {
    "hidden": true
   },
   "outputs": [],
   "source": [
    "aux3 = df4[['day','sales']].groupby('day').sum().reset_index()\n",
    "\n",
    "aux3['before_after'] = aux3['day'].apply (lambda x: 'before_10_days' if x <= 10 else 'after_10_days')\n",
    "aux4 = aux3[['before_after','sales']].groupby('before_after').sum().reset_index() \n",
    "\n",
    "plt.subplot(2,2,1)\n",
    "sns.barplot(x='day', y='sales', data=aux3);\n",
    "\n",
    "plt.subplot(2,2,2)\n",
    "sns.regplot(x='day', y='sales', data=aux3);\n",
    "\n",
    "plt.subplot(2,2,3)\n",
    "sns.heatmap(aux3.corr(method ='pearson'), annot=True);\n",
    "\n",
    "plt.subplot(2,2,4)\n",
    "sns.barplot(x='before_after', y='sales', data=aux4);"
   ]
  },
  {
   "cell_type": "markdown",
   "id": "4dda7ec9",
   "metadata": {
    "hidden": true
   },
   "source": [
    "### 12. Lojas deveriam vender menos aos finais de semana.\n",
    "\n",
    "Verdadeira, loja vendem menos aos Finais de Semana"
   ]
  },
  {
   "cell_type": "code",
   "execution_count": null,
   "id": "00998a7d",
   "metadata": {
    "hidden": true
   },
   "outputs": [],
   "source": [
    "aux3 = df4[['day_of_week','sales']].groupby('day_of_week').sum().reset_index()\n",
    "\n",
    "plt.subplot(1,3,1)\n",
    "sns.barplot(x='day_of_week', y='sales', data=aux3);\n",
    "\n",
    "plt.subplot(1,3,2)\n",
    "sns.regplot(x='day_of_week', y='sales', data=aux3);\n",
    "\n",
    "plt.subplot(1,3,3)\n",
    "sns.heatmap(aux3.corr(method ='pearson'), annot=True);\n"
   ]
  },
  {
   "cell_type": "markdown",
   "id": "0333fc6a",
   "metadata": {
    "hidden": true
   },
   "source": [
    "### 13. Lojas deveriam vender menos durante os feriados escolares.\n",
    "\n",
    "Verdadeira - vendem menos durante as Feriados escolares, exceto Julho e Agosto"
   ]
  },
  {
   "cell_type": "code",
   "execution_count": null,
   "id": "ae925464",
   "metadata": {
    "hidden": true
   },
   "outputs": [],
   "source": [
    "aux3 = df4[['school_holiday','sales']].groupby('school_holiday').sum().reset_index()\n",
    "\n",
    "plt.subplot(2,1,1)\n",
    "sns.barplot(x='school_holiday', y='sales', data=aux3);\n",
    "\n",
    "aux4 = df4[['month','school_holiday','sales']].groupby(['month','school_holiday']).sum().reset_index()\n",
    "plt.subplot(2,1,2)\n",
    "sns.barplot(x='month', y='sales', hue='school_holiday', data=aux4);\n"
   ]
  },
  {
   "cell_type": "markdown",
   "id": "c376f27d",
   "metadata": {
    "hidden": true
   },
   "source": [
    "## 4.3 - Analise Multivariada"
   ]
  },
  {
   "cell_type": "markdown",
   "id": "f42f47df",
   "metadata": {
    "hidden": true
   },
   "source": [
    "### 4.3.1 Numerical Attributes"
   ]
  },
  {
   "cell_type": "code",
   "execution_count": null,
   "id": "a332979e",
   "metadata": {
    "hidden": true
   },
   "outputs": [],
   "source": [
    "correlation = num_attribute.corr(method = 'pearson')\n",
    "sns.heatmap(correlation, annot=True)"
   ]
  },
  {
   "cell_type": "markdown",
   "id": "e2b19869",
   "metadata": {
    "hidden": true
   },
   "source": [
    "### 4.3.2 Categorical Attributes"
   ]
  },
  {
   "cell_type": "code",
   "execution_count": null,
   "id": "56941c22",
   "metadata": {
    "hidden": true
   },
   "outputs": [],
   "source": [
    "a.head()"
   ]
  },
  {
   "cell_type": "code",
   "execution_count": null,
   "id": "94cf2622",
   "metadata": {
    "hidden": true
   },
   "outputs": [],
   "source": [
    "#only categorical Data\n",
    "a = df4.select_dtypes(include=object)\n",
    "\n",
    "#calculate cramer_v\n",
    "a1= (cramer_v(a['state_holiday'], a['state_holiday']))\n",
    "a2= (cramer_v(a['state_holiday'], a['store_type']))\n",
    "a3= (cramer_v(a['state_holiday'], a['assortment']))\n",
    "\n",
    "a4= (cramer_v(a['store_type'], a['state_holiday']))\n",
    "a5= (cramer_v(a['store_type'], a['store_type']))\n",
    "a6= (cramer_v(a['store_type'], a['assortment']))\n",
    "\n",
    "a7= (cramer_v(a['assortment'], a['state_holiday']))\n",
    "a8= (cramer_v(a['assortment'], a['store_type']))\n",
    "a9= (cramer_v(a['assortment'], a['assortment']))\n",
    "\n",
    "#final Dataset\n",
    "d = pd.DataFrame( {'state_holiday': [a1, a2, a3], \n",
    "               'store_type': [a4, a5, a6], \n",
    "               'assortment': [a7, a8, a9]})\n",
    "\n",
    "d = d.set_index (d.columns)\n",
    "#HeatMap\n",
    "sns.heatmap (d, annot=True)"
   ]
  },
  {
   "cell_type": "markdown",
   "id": "fc3d8c9a",
   "metadata": {
    "heading_collapsed": true
   },
   "source": [
    "# 5.0  Data Preparation\n"
   ]
  },
  {
   "cell_type": "code",
   "execution_count": null,
   "id": "4e1b5c98",
   "metadata": {
    "hidden": true
   },
   "outputs": [],
   "source": [
    "df5 = df4.copy()"
   ]
  },
  {
   "cell_type": "code",
   "execution_count": null,
   "id": "da3fc944",
   "metadata": {
    "hidden": true
   },
   "outputs": [],
   "source": [
    "df5.head()"
   ]
  },
  {
   "cell_type": "markdown",
   "id": "10a14398",
   "metadata": {
    "hidden": true
   },
   "source": [
    "## 5.1 Normalization"
   ]
  },
  {
   "cell_type": "markdown",
   "id": "7ed860ee",
   "metadata": {
    "hidden": true
   },
   "source": [
    "Nao foi feito nenhuma Normalization."
   ]
  },
  {
   "cell_type": "markdown",
   "id": "fd76b92e",
   "metadata": {
    "hidden": true
   },
   "source": [
    "## 5.2 Rescaling\n"
   ]
  },
  {
   "cell_type": "code",
   "execution_count": null,
   "id": "43abd170",
   "metadata": {
    "hidden": true
   },
   "outputs": [],
   "source": [
    "a = df5.select_dtypes(include =['int64', 'float'])\n",
    "a.dtypes"
   ]
  },
  {
   "cell_type": "code",
   "execution_count": null,
   "id": "1e692b2a",
   "metadata": {
    "hidden": true
   },
   "outputs": [],
   "source": [
    "sns.boxplot( df5['year'])"
   ]
  },
  {
   "cell_type": "code",
   "execution_count": null,
   "id": "e1074f31",
   "metadata": {
    "hidden": true
   },
   "outputs": [],
   "source": [
    "rs = RobustScaler()\n",
    "mms = MinMaxScaler()\n",
    "\n",
    "#competition_distance\n",
    "df5['competition_distance'] = rs.fit_transform(df5[['competition_distance']].values)\n",
    "\n",
    "pickle.dump(rs, open('/Users/jefersonlima/Documents/GitHub/Rossmann-Store-Prediction/parameter/competition_distance_scaler.pkl', 'wb') ) \n",
    "\n",
    "\n",
    "#competition_time_month\n",
    "df5['competition_time_month'] = rs.fit_transform(df5[['competition_time_month']].values)\n",
    "pickle.dump(rs, open('/Users/jefersonlima/Documents/GitHub/Rossmann-Store-Prediction/parameter/competition_time_month_scaler.pkl', 'wb') ) \n",
    "\n",
    "\n",
    "#promo_time_week\n",
    "df5['promo_time_week'] = mms.fit_transform(df5[['promo_time_week']].values)\n",
    "pickle.dump(rs, open('/Users/jefersonlima/Documents/GitHub/Rossmann-Store-Prediction/parameter/promo_time_week_scaler.pkl', 'wb') ) \n",
    "\n",
    "#year\n",
    "df5['year'] = mms.fit_transform(df5[['year']].values)\n",
    "pickle.dump(rs, open('/Users/jefersonlima/Documents/GitHub/Rossmann-Store-Prediction/parameter/year_scaler.pkl', 'wb') ) \n",
    "\n"
   ]
  },
  {
   "cell_type": "code",
   "execution_count": null,
   "id": "78c393f9",
   "metadata": {
    "hidden": true
   },
   "outputs": [],
   "source": [
    "sns.distplot(df5['competition_distance'] );"
   ]
  },
  {
   "cell_type": "markdown",
   "id": "7e2b3ea1",
   "metadata": {
    "hidden": true
   },
   "source": [
    "## 5.3 Transformation"
   ]
  },
  {
   "cell_type": "markdown",
   "id": "9fadcd8e",
   "metadata": {
    "hidden": true
   },
   "source": [
    "### 5.3.1 Encoding"
   ]
  },
  {
   "cell_type": "code",
   "execution_count": null,
   "id": "08583286",
   "metadata": {
    "hidden": true
   },
   "outputs": [],
   "source": [
    "#state_holiday - One Hot Enconding\n",
    "df5 = pd.get_dummies( df5, prefix = ['state_holiday'], columns=['state_holiday'])"
   ]
  },
  {
   "cell_type": "code",
   "execution_count": null,
   "id": "bacfae52",
   "metadata": {
    "hidden": true
   },
   "outputs": [],
   "source": [
    "#store_type\n",
    "le = LabelEncoder()\n",
    "df5['store_type'] = le.fit_transform(df5['store_type'])\n",
    "pickle.dump(le, open('/Users/jefersonlima/Desktop/Rossmann Store Sales2/parameter/store_type_scaler.pkl', 'wb') ) \n",
    "\n",
    "#assortment\n",
    "assortment_dict= {'basic':1, 'extra':2, 'extended':3}\n",
    "df5['assortment'] = df5['assortment'].map(assortment_dict)"
   ]
  },
  {
   "cell_type": "code",
   "execution_count": null,
   "id": "853d50e9",
   "metadata": {
    "hidden": true
   },
   "outputs": [],
   "source": [
    "df5.sample(10)"
   ]
  },
  {
   "cell_type": "markdown",
   "id": "73219d72",
   "metadata": {
    "hidden": true
   },
   "source": [
    "###  5.3.2 Response Variable Transformation"
   ]
  },
  {
   "cell_type": "code",
   "execution_count": null,
   "id": "7645886c",
   "metadata": {
    "hidden": true
   },
   "outputs": [],
   "source": [
    "df5['sales'] = np.log1p(df5['sales'])"
   ]
  },
  {
   "cell_type": "code",
   "execution_count": null,
   "id": "114a09d9",
   "metadata": {
    "hidden": true
   },
   "outputs": [],
   "source": [
    "sns.distplot(df5['sales'])"
   ]
  },
  {
   "cell_type": "markdown",
   "id": "e9511317",
   "metadata": {
    "hidden": true
   },
   "source": [
    "### 5.3.3. Natural Transformation"
   ]
  },
  {
   "cell_type": "code",
   "execution_count": null,
   "id": "e1b6fb45",
   "metadata": {
    "hidden": true
   },
   "outputs": [],
   "source": [
    "#day_of_week\n",
    "df5['day_of_week_sin'] = df5['day_of_week'].apply(lambda x: np.sin( x * ( 2. * np.pi/7)))\n",
    "df5['day_of_week_cos'] = df5['day_of_week'].apply(lambda x: np.cos( x * ( 2. * np.pi/7)))\n",
    "\n",
    "#month\n",
    "df5['month_sin'] = df5['month'].apply(lambda x: np.sin( x * ( 2. * np.pi/12)))\n",
    "df5['month_cos'] = df5['month'].apply(lambda x: np.cos( x * ( 2. * np.pi/12)))\n",
    "\n",
    "#day\n",
    "df5['day_sin'] = df5['day'].apply(lambda x: np.sin( x * ( 2. * np.pi/30)))\n",
    "df5['day_cos'] = df5['day'].apply(lambda x: np.cos( x * ( 2. * np.pi/30)))\n",
    "\n",
    "#week_of_year\n",
    "df5['week_of_year_sin'] = df5['week_of_year'].apply(lambda x: np.sin( x * ( 2. * np.pi/52)))\n",
    "df5['week_of_year_cos'] = df5['week_of_year'].apply(lambda x: np.cos( x * ( 2. * np.pi/52)))"
   ]
  },
  {
   "cell_type": "code",
   "execution_count": null,
   "id": "37bb5863",
   "metadata": {
    "hidden": true
   },
   "outputs": [],
   "source": [
    "df5.head()"
   ]
  },
  {
   "cell_type": "markdown",
   "id": "01f7172f",
   "metadata": {
    "heading_collapsed": true
   },
   "source": [
    "# 6.0  Feature Selection"
   ]
  },
  {
   "cell_type": "code",
   "execution_count": null,
   "id": "bc990d7d",
   "metadata": {
    "hidden": true
   },
   "outputs": [],
   "source": [
    "df6 = df5.copy()"
   ]
  },
  {
   "cell_type": "code",
   "execution_count": null,
   "id": "adb046ce",
   "metadata": {
    "hidden": true
   },
   "outputs": [],
   "source": [
    "df6.dtypes "
   ]
  },
  {
   "cell_type": "code",
   "execution_count": null,
   "id": "6f144d93",
   "metadata": {
    "hidden": true
   },
   "outputs": [],
   "source": [
    "#drop columnns duplicated/Derivated\n",
    "cols_drop = ['week_of_year','day','month','day_of_week','promo_since','competition_since','year_week']\n",
    "\n",
    "df6 =df6.drop(cols_drop, axis=1)"
   ]
  },
  {
   "cell_type": "markdown",
   "id": "2dfbeab4",
   "metadata": {
    "hidden": true
   },
   "source": [
    "## 6.1 Slipt DataFrame into Training and Test Dataset"
   ]
  },
  {
   "cell_type": "code",
   "execution_count": null,
   "id": "c31b7d95",
   "metadata": {
    "hidden": true
   },
   "outputs": [],
   "source": [
    "df6[['store','date']].groupby('store').max().reset_index()['date'][0] - datetime.timedelta(days=7*6)"
   ]
  },
  {
   "cell_type": "code",
   "execution_count": null,
   "id": "255d69c3",
   "metadata": {
    "hidden": true
   },
   "outputs": [],
   "source": [
    "#Training Dataset\n",
    "X_train = df6[df6['date'] < '2015-06-19']\n",
    "y_train = X_train['sales']\n",
    "\n",
    "#Test Dataset\n",
    "X_test = df6[df6['date'] >= '2015-06-19']\n",
    "y_test = X_test['sales']\n",
    "\n",
    "print('Trainning Min Date {}'.format(X_train['date'].min()))\n",
    "print('Trainning Max Date {}'.format(X_train['date'].max()))\n",
    "\n",
    "print('\\nTest Min Date {}'.format(X_test['date'].min()))\n",
    "print('Test Max Date {}'.format(X_test['date'].max()))\n",
    "\n"
   ]
  },
  {
   "cell_type": "markdown",
   "id": "6e005129",
   "metadata": {
    "hidden": true
   },
   "source": [
    "## 6.2 Boruta as Feacture Selector"
   ]
  },
  {
   "cell_type": "code",
   "execution_count": 1,
   "id": "2c060a3c",
   "metadata": {
    "ExecuteTime": {
     "end_time": "2021-06-22T18:37:47.966073Z",
     "start_time": "2021-06-22T18:37:47.960688Z"
    },
    "hidden": true
   },
   "outputs": [],
   "source": [
    "##Trainning and DataSet for Boruta\n",
    "#X_train_n = X_train.drop(['date','sales'],axis =1 ).values\n",
    "#Y_train_n = Y_train.values.ravel()\n",
    "\n",
    "#define RandomForestRegressor\n",
    "#rf = RandomForestRegressor(n_jobs=-1)\n",
    "\n",
    "#Define Boruta\n",
    "#boruta = BorutaPy( rf, n_estimators='auto', verbose=2, random_state=42).fit (X_train_n, Y_train_n)"
   ]
  },
  {
   "cell_type": "code",
   "execution_count": 2,
   "id": "7e3a0c1f",
   "metadata": {
    "ExecuteTime": {
     "end_time": "2021-06-22T18:38:02.095022Z",
     "start_time": "2021-06-22T18:38:02.090832Z"
    },
    "hidden": true
   },
   "outputs": [],
   "source": [
    "#cols_selected = boruta.support_.tolist()\n",
    "\n",
    "\n",
    "## Best Dataset Feature Selected\n",
    "#X_train_fs = X_train.drop(['date','sales'],axis =1 )\n",
    "#cols_selected_boruta = X_train_fs.iloc[:, cols_selected].columns.to_list()\n",
    "\n",
    "\n",
    "#Not Select Boruta\n",
    "#cols_not_selected_boruta= list(np.setdiff1d(X_train_fs.columns, cols_selected_boruta))"
   ]
  },
  {
   "cell_type": "code",
   "execution_count": 3,
   "id": "4055e3b2",
   "metadata": {
    "ExecuteTime": {
     "end_time": "2021-06-22T18:38:29.926357Z",
     "start_time": "2021-06-22T18:38:29.920963Z"
    },
    "hidden": true
   },
   "outputs": [],
   "source": [
    "#cols_selected_boruta"
   ]
  },
  {
   "cell_type": "code",
   "execution_count": 4,
   "id": "7c4f0bea",
   "metadata": {
    "ExecuteTime": {
     "end_time": "2021-06-22T18:38:30.345610Z",
     "start_time": "2021-06-22T18:38:30.342183Z"
    },
    "hidden": true
   },
   "outputs": [],
   "source": [
    "#cols_not_selected_boruta"
   ]
  },
  {
   "cell_type": "markdown",
   "id": "04490ced",
   "metadata": {
    "hidden": true
   },
   "source": [
    "## 6.3 Manual Feature Selection"
   ]
  },
  {
   "cell_type": "code",
   "execution_count": null,
   "id": "85c3025b",
   "metadata": {
    "hidden": true
   },
   "outputs": [],
   "source": [
    "cols_selected_boruta = ['store', 'promo', 'store_type', 'assortment', 'competition_distance', 'competition_open_since_month', 'competition_open_since_year', 'promo2', 'promo2_since_week', 'promo2_since_year', 'competition_time_month', 'promo_time_week', 'day_of_week_sin', 'day_of_week_cos', 'month_cos','month_sin', 'day_sin', 'day_cos','week_of_year_cos','week_of_year_sin']"
   ]
  },
  {
   "cell_type": "code",
   "execution_count": null,
   "id": "639d3dc9",
   "metadata": {
    "hidden": true
   },
   "outputs": [],
   "source": [
    "#columns to Add\n",
    "feat_to_add = ['date','sales']\n",
    "\n",
    "#Final features\n",
    "cols_selected_boruta_full = cols_selected_boruta.copy()\n",
    "cols_selected_boruta_full.extend(feat_to_add)"
   ]
  },
  {
   "cell_type": "markdown",
   "id": "8efa3912",
   "metadata": {
    "heading_collapsed": true
   },
   "source": [
    "# 7.0 Machine Learning Modelling"
   ]
  },
  {
   "cell_type": "code",
   "execution_count": null,
   "id": "de679102",
   "metadata": {
    "hidden": true
   },
   "outputs": [],
   "source": [
    "df7 = df6.copy()"
   ]
  },
  {
   "cell_type": "code",
   "execution_count": null,
   "id": "31a65213",
   "metadata": {
    "hidden": true
   },
   "outputs": [],
   "source": [
    "x_train = X_train[cols_selected_boruta]\n",
    "x_test = X_test[cols_selected_boruta]\n",
    "\n",
    "#Time-Series Prepararion\n",
    "x_training = X_train[cols_selected_boruta_full]"
   ]
  },
  {
   "cell_type": "markdown",
   "id": "8bd7133b",
   "metadata": {
    "hidden": true
   },
   "source": [
    "## 7.1 Average Model"
   ]
  },
  {
   "cell_type": "code",
   "execution_count": null,
   "id": "25ef5e11",
   "metadata": {
    "hidden": true
   },
   "outputs": [],
   "source": [
    "aux1 = x_test.copy()\n",
    "aux1['sales'] = y_test.copy()\n",
    "\n",
    "#prediction\n",
    "aux2 = aux1[['store','sales']].groupby('store').mean().reset_index().rename(columns = {'sales': 'predictions'})\n",
    "aux1 = pd.merge( aux1, aux2, how='left', on='store')\n",
    "yhat_baseline = aux1['predictions']\n",
    "\n",
    "#performace\n",
    "baseline_result = m1_error('Average Model', np.expm1(y_test), np.expm1(yhat_baseline))\n",
    "baseline_result"
   ]
  },
  {
   "cell_type": "markdown",
   "id": "9bdfdf64",
   "metadata": {
    "hidden": true
   },
   "source": [
    "## 7.2 Linear Regression Model"
   ]
  },
  {
   "cell_type": "code",
   "execution_count": null,
   "id": "ac4eb3de",
   "metadata": {
    "hidden": true
   },
   "outputs": [],
   "source": [
    "#model\n",
    "lr = LinearRegression().fit(x_train, y_train)\n",
    "\n",
    "#prediction\n",
    "yhat_lr = lr.predict(x_test)\n",
    "\n",
    "#performace\n",
    "lr_result = m1_error('Liner Regression', np.expm1(y_test), np.expm1(yhat_lr))\n",
    "lr_result"
   ]
  },
  {
   "cell_type": "markdown",
   "id": "af88a510",
   "metadata": {
    "hidden": true
   },
   "source": [
    "## 7.2.1 Linear Regression Model - Cross Validation"
   ]
  },
  {
   "cell_type": "code",
   "execution_count": null,
   "id": "6fe8869d",
   "metadata": {
    "hidden": true
   },
   "outputs": [],
   "source": [
    "lr_result_cv = cross_validation(x_training, 5, 'Linear Regression', lr , verbose= True)\n",
    "lr_result_cv"
   ]
  },
  {
   "cell_type": "markdown",
   "id": "86ea3619",
   "metadata": {
    "hidden": true
   },
   "source": [
    "## 7.3 Linear Regression Regularized Model - Lasso"
   ]
  },
  {
   "cell_type": "code",
   "execution_count": null,
   "id": "83ee3cb6",
   "metadata": {
    "hidden": true
   },
   "outputs": [],
   "source": [
    "#model\n",
    "lrr = Lasso(alpha=0.01).fit(x_train, y_train)\n",
    "\n",
    "#prediction\n",
    "yhat_lrr = lrr.predict(x_test)\n",
    "\n",
    "#performace\n",
    "lrr_result = m1_error('Liner Regression - Lasso', np.expm1(y_test), np.expm1(yhat_lrr))\n",
    "lrr_result"
   ]
  },
  {
   "cell_type": "markdown",
   "id": "edd787e2",
   "metadata": {
    "hidden": true
   },
   "source": [
    "## 7.3.1 Linear Regression Regularized Lasso  - Cross Validation"
   ]
  },
  {
   "cell_type": "code",
   "execution_count": null,
   "id": "f14ae334",
   "metadata": {
    "hidden": true
   },
   "outputs": [],
   "source": [
    "lrr_result_cv = cross_validation(x_training, 5, 'Lasso', lrr , verbose= True)\n",
    "lrr_result_cv"
   ]
  },
  {
   "cell_type": "markdown",
   "id": "b625bdd3",
   "metadata": {
    "hidden": true
   },
   "source": [
    "## 7.4 Random Forest Regressor"
   ]
  },
  {
   "cell_type": "code",
   "execution_count": null,
   "id": "a9125f9c",
   "metadata": {
    "hidden": true
   },
   "outputs": [],
   "source": [
    "#model\n",
    "rf = RandomForestRegressor(n_estimators=100, n_jobs=-1, random_state=42).fit(x_train, y_train)\n",
    "\n",
    "#prediction\n",
    "yhat_rf = rf.predict(x_test)\n",
    "\n",
    "#performace\n",
    "rf_result = m1_error('Random Forest Regressor', np.expm1(y_test), np.expm1(yhat_rf))\n",
    "rf_result"
   ]
  },
  {
   "cell_type": "markdown",
   "id": "38540ac6",
   "metadata": {
    "hidden": true
   },
   "source": [
    "## 7.4.1 Random Forest Regressor  - Cross Validation"
   ]
  },
  {
   "cell_type": "code",
   "execution_count": 1,
   "id": "5572cc4c",
   "metadata": {
    "ExecuteTime": {
     "end_time": "2021-06-22T18:43:04.208250Z",
     "start_time": "2021-06-22T18:43:04.203987Z"
    },
    "hidden": true
   },
   "outputs": [],
   "source": [
    "#testar em CASA!!!!\n",
    "#rs_resul_cv = cross_validation(x_training, 5, 'Random Forest Regressor', rf , verbose= True)\n",
    "#rs_resul_cv"
   ]
  },
  {
   "cell_type": "markdown",
   "id": "f4434470",
   "metadata": {
    "hidden": true
   },
   "source": [
    "## 7.5 XGBoost Regressor"
   ]
  },
  {
   "cell_type": "code",
   "execution_count": null,
   "id": "d86f4ae0",
   "metadata": {
    "hidden": true
   },
   "outputs": [],
   "source": [
    "#model\n",
    "model_xgb = xgb.XGBRegressor( objective='reg:squarederror',\n",
    "                             n_estimators=3500, #padrao #100\n",
    "                             eta=0.3,         #padrao #0.01\n",
    "                             max_depht=5,     #padrao #10\n",
    "                             subsample=0.5,     #padrao #0.7\n",
    "                             colsample_bytee=0.9,  #padrao #0.9\n",
    "                            min_child_weight=3 ).fit(x_train, y_train)    \n",
    "\n",
    "#prediction\n",
    "yhat_xgb = model_xgb.predict( x_test)\n",
    "\n",
    "#performace\n",
    "xgb_result = m1_error('XGBoost Regressor', np.expm1(y_test), np.expm1(yhat_xgb))\n",
    "xgb_result"
   ]
  },
  {
   "cell_type": "markdown",
   "id": "e812a258",
   "metadata": {
    "hidden": true
   },
   "source": [
    "## 7.5.1 XGBoost Regressor  - Cross Validation"
   ]
  },
  {
   "cell_type": "code",
   "execution_count": null,
   "id": "08750c3d",
   "metadata": {
    "hidden": true
   },
   "outputs": [],
   "source": [
    "xgb_result_cv = cross_validation(x_training, 5, 'XGBoost Regressor', model_xgb , verbose= False)\n",
    "xgb_result_cv"
   ]
  },
  {
   "cell_type": "markdown",
   "id": "9682f037",
   "metadata": {
    "hidden": true
   },
   "source": [
    "## 7.6 Compare Model's Performance "
   ]
  },
  {
   "cell_type": "markdown",
   "id": "fa418d3b",
   "metadata": {
    "hidden": true
   },
   "source": [
    "### 7.6.1 Single Performace"
   ]
  },
  {
   "cell_type": "code",
   "execution_count": null,
   "id": "e6db6499",
   "metadata": {
    "hidden": true
   },
   "outputs": [],
   "source": [
    "modelling_result = pd.concat([baseline_result,lr_result,lrr_result,rf_result,xgb_result])\n",
    "modelling_result.sort_values('RSME')"
   ]
  },
  {
   "cell_type": "markdown",
   "id": "dea571dc",
   "metadata": {
    "hidden": true
   },
   "source": [
    "### 7.6.2 Real Performance - Cross Validation"
   ]
  },
  {
   "cell_type": "code",
   "execution_count": null,
   "id": "351e3e42",
   "metadata": {
    "hidden": true
   },
   "outputs": [],
   "source": [
    "modelling_result_cv= pd.concat([lr_result_cv,lrr_result_cv,rf_result_cv,xgb_result_cv])\n",
    "modelling_result_cv.sort_values('RSME')"
   ]
  },
  {
   "cell_type": "markdown",
   "id": "34aaab7a",
   "metadata": {
    "heading_collapsed": true
   },
   "source": [
    "# 8.0 Hyperameter Fine Tuning"
   ]
  },
  {
   "cell_type": "code",
   "execution_count": null,
   "id": "a6eaeee1",
   "metadata": {
    "hidden": true
   },
   "outputs": [],
   "source": [
    "df8 = df7.copy()"
   ]
  },
  {
   "cell_type": "markdown",
   "id": "ff4127e4",
   "metadata": {
    "hidden": true
   },
   "source": [
    "## 8.1 Random Search"
   ]
  },
  {
   "cell_type": "code",
   "execution_count": null,
   "id": "a0263bf0",
   "metadata": {
    "hidden": true
   },
   "outputs": [],
   "source": [
    "param = {'n_estimators': [1500,1700,300,200], #3500\n",
    "        'eta': [0.1, 0.03], #0.3\n",
    "        'max_depht': [3, 5,9], #5\n",
    "        'subsample': [0.1,0.5,0.7], #0.5\n",
    "        'colsample_bytee':[0.3,0.5,0.9], #0.9\n",
    "        'min_child_weight': [3,8,10,11]  #3}\n",
    "\n",
    "max_eval = 2"
   ]
  },
  {
   "cell_type": "code",
   "execution_count": 1,
   "id": "e5e14f6c",
   "metadata": {
    "ExecuteTime": {
     "end_time": "2021-06-22T18:46:31.258414Z",
     "start_time": "2021-06-22T18:46:31.252784Z"
    },
    "hidden": true
   },
   "outputs": [],
   "source": [
    "#xgb_result = pd.DataFrame()\n",
    "\n",
    "#for i in range (max_eval):\n",
    "    #Choose Values for parameters randoly\n",
    "#    hp = { k: random.sample (v, 1) [0] for k, v in param.items()}\n",
    "#    print(hp)\n",
    "#    \n",
    "#    #model\n",
    "#    model_xgb = xgb.XGBRegressor( objective='reg:squarederror',\n",
    "#                                 n_estimators=hp['n_estimators'],\n",
    "#                                 eta=hp['eta'],\n",
    "#                                 max_depht=hp['max_depht'],\n",
    "#                                 subsample=hp['subsample'],\n",
    "#                                 colsample_bytee=hp['colsample_bytee'],\n",
    "#                                 min_child_weight=hp['min_child_weight'])\n",
    "#\n",
    "#\n",
    "#   #performace\n",
    "#    result = cross_validation(x_training, 2, 'XGBoost Regressor', model_xgb , verbose= True)\n",
    "#    xgb_result = pd.concat([xgb_result,result])\n",
    "#                                              \n",
    "#                                              \n",
    "#xgb_result"
   ]
  },
  {
   "cell_type": "markdown",
   "id": "fc5b7577",
   "metadata": {
    "hidden": true
   },
   "source": [
    "## 8.2 Final Model"
   ]
  },
  {
   "cell_type": "code",
   "execution_count": null,
   "id": "b6ce217e",
   "metadata": {
    "hidden": true
   },
   "outputs": [],
   "source": [
    "param_tuned = {'n_estimators': 3000,\n",
    "        'eta':0.03,\n",
    "        'max_depht':5 ,\n",
    "        'subsample':0.7 ,\n",
    "        'colsample_bytee': 0.7,\n",
    "        'min_child_weight': 3 }\n"
   ]
  },
  {
   "cell_type": "code",
   "execution_count": null,
   "id": "3f64db36",
   "metadata": {
    "hidden": true
   },
   "outputs": [],
   "source": [
    "##model\n",
    "model_xgb_tuned = xgb.XGBRegressor( objective='reg:squarederror',\n",
    "                             n_estimators=param_tuned['n_estimators'],\n",
    "                             eta=param_tuned['eta'],\n",
    "                             max_depht=param_tuned['max_depht'],\n",
    "                             subsample=param_tuned['subsample'],\n",
    "                             colsample_bytee=param_tuned['colsample_bytee'],\n",
    "                             min_child_weight=param_tuned['min_child_weight']).fit(x_train, y_train)\n",
    "\n",
    "#prediction\n",
    "yhat_xgb_tuned = model_xgb_tuned.predict( x_test)\n",
    "\n",
    "#performace\n",
    "xgb_result_tuned = m1_error('XGBoost Regressor', np.expm1(y_test), np.expm1(yhat_xgb_tuned))\n",
    "xgb_result_tuned"
   ]
  },
  {
   "cell_type": "markdown",
   "id": "90ec623e",
   "metadata": {
    "heading_collapsed": true
   },
   "source": [
    "# 9.0 Traducao e Interpretacao e Erro"
   ]
  },
  {
   "cell_type": "code",
   "execution_count": null,
   "id": "72ed9a73",
   "metadata": {
    "hidden": true
   },
   "outputs": [],
   "source": [
    "df9 = X_test[cols_selected_boruta_full]"
   ]
  },
  {
   "cell_type": "markdown",
   "id": "fc48e804",
   "metadata": {},
   "source": [
    "# 10.0 Deploy Model to Production"
   ]
  },
  {
   "cell_type": "markdown",
   "id": "2547e97c",
   "metadata": {},
   "source": [
    "## 10.1 Class Rossmann"
   ]
  },
  {
   "cell_type": "code",
   "execution_count": 14,
   "id": "fcc337d6",
   "metadata": {
    "ExecuteTime": {
     "end_time": "2021-06-22T19:45:40.519437Z",
     "start_time": "2021-06-22T19:45:40.480112Z"
    }
   },
   "outputs": [],
   "source": [
    "import pickle\n",
    "import inflection\n",
    "import pandas as pd\n",
    "import numpy as np\n",
    "import math\n",
    "import datetime\n",
    "\n",
    "class Rossmann (object ): \n",
    "    def __init__(self):\n",
    "        state = 1\n",
    "        self.competition_distance_scaler = pickle.load(open('/Users/jefersonlima/Desktop/Rossmann Store Sales2/parameter/competition_distance_scaler.pkl', 'rb') ) \n",
    "        self.competition_time_month_scaler = pickle.load(open('/Users/jefersonlima/Desktop/Rossmann Store Sales2/parameter/competition_time_month_scaler.pkl', 'rb') ) \n",
    "        self.promo_time_week_scaler = pickle.load(open('/Users/jefersonlima/Desktop/Rossmann Store Sales2/parameter/promo_time_week_scaler.pkl', 'rb') ) \n",
    "        self.year_scaler = pickle.load(open('/Users/jefersonlima/Desktop/Rossmann Store Sales2/parameter/year_scaler.pkl', 'rb') ) \n",
    "        self.store_type_scaler = pickle.load(open('/Users/jefersonlima/Desktop/Rossmann Store Sales2/parameter/store_type_scaler.pkl', 'rb') ) \n",
    "        self.year_scaler = pickle.load(open('/Users/jefersonlima/Desktop/Rossmann Store Sales2/parameter/year_scaler.pkl', 'rb') ) \n",
    "\n",
    "\n",
    "        \n",
    "    def data_cleaning(self,df1):\n",
    "\n",
    "        ## 1.1. Rename Columns\n",
    "\n",
    "        cols_old = ['Store', 'DayOfWeek', 'Date', 'Open', 'Promo', 'StateHoliday', 'SchoolHoliday', \n",
    "                    'StoreType', 'Assortment', 'CompetitionDistance', 'CompetitionOpenSinceMonth','CompetitionOpenSinceYear',\n",
    "                    'Promo2', 'Promo2SinceWeek','Promo2SinceYear', 'PromoInterval']\n",
    "\n",
    "        snakecase = lambda x: inflection.underscore( x )\n",
    "\n",
    "        cols_new = list(map(snakecase, cols_old))\n",
    "\n",
    "        #Rename\n",
    "        df1.columns = cols_new\n",
    "\n",
    "        ## 1.3. Data Type\n",
    "        #mudando DateTime\n",
    "        df1['date'] = pd.to_datetime(df1['date'])\n",
    "\n",
    "        ## 1.4. Check NA\n",
    "        ## 1.5. Fill out NA\n",
    "\n",
    "        df1['competition_distance'].max()\n",
    "\n",
    "\n",
    "        #competition_distance    \n",
    "        df1['competition_distance'] = df1['competition_distance'].apply (lambda x: 200000.0 if math.isnan(x) else x)\n",
    "\n",
    "        #competition_open_since_month\n",
    "        df1['competition_open_since_month'] = df1.apply (lambda x: x['date'].month if math.isnan(x['competition_open_since_month']) else x['competition_open_since_month'], axis=1)\n",
    "\n",
    "        #competition_open_since_year   \n",
    "        df1['competition_open_since_year'] = df1.apply (lambda x: x['date'].year if math.isnan(x['competition_open_since_year']) else x['competition_open_since_year'], axis=1)\n",
    "\n",
    "        #promo2_since_week \n",
    "        df1['promo2_since_week'] = df1.apply (lambda x: x['date'].week if math.isnan(x['promo2_since_week']) else x['promo2_since_week'], axis=1)\n",
    "\n",
    "        #promo2_since_year  \n",
    "        df1['promo2_since_year'] = df1.apply (lambda x: x['date'].year if math.isnan(x['promo2_since_year']) else x['promo2_since_year'], axis=1)\n",
    "\n",
    "        #promo_interval \n",
    "        month_map = {1: 'Jan', 2: 'Fev', 3: 'Mar', 4: 'Apr', 5: 'May', 6: 'Jun', 7: 'Jul', 8: 'Ago', 9: 'Sep', 10: 'Oct', 11: 'Nov', 12: 'Dec'}\n",
    "\n",
    "        df1['promo_interval'].fillna(0, inplace=True)\n",
    "\n",
    "        df1['month_map'] = df1['date'].dt.month.map(month_map)\n",
    "\n",
    "        df1['is_promo'] = df1[['promo_interval', 'month_map']].apply(lambda x: 0 if x['promo_interval'] == 0 else 1 if x['month_map'] in x['promo_interval'].split(',') else 0, axis=1)\n",
    "\n",
    "\n",
    "        ## 1.6 Change Dtypes\n",
    "\n",
    "        df1['competition_open_since_month'] = df1['competition_open_since_month'].astype(int)\n",
    "        df1['competition_open_since_year'] = df1['competition_open_since_year'].astype(int)\n",
    "\n",
    "        df1['promo2_since_week'] = df1['promo2_since_week'].astype(int)\n",
    "        df1['promo2_since_year'] = df1['promo2_since_year'].astype(int)\n",
    "        \n",
    "        \n",
    "        return df1\n",
    "\n",
    "\n",
    "\n",
    "    def feature_engineering(self,df2):\n",
    "\n",
    "\n",
    "        # year\n",
    "        df2['year'] = df2['date'].dt.year\n",
    "\n",
    "        # month\n",
    "        df2['month'] = df2['date'].dt.month\n",
    "\n",
    "        # day\n",
    "        df2['day'] = df2['date'].dt.day\n",
    "\n",
    "        # week of year\n",
    "        df2['week_of_year'] = df2['date'].dt.weekofyear\n",
    "\n",
    "        # year week\n",
    "        df2['year_week'] = df2['date'].dt.strftime( '%Y-%W' )\n",
    "\n",
    "        # competition since\n",
    "        df2['competition_since'] = df2.apply( lambda x: datetime.datetime( year=x['competition_open_since_year'], \n",
    "                                                                          month=x['competition_open_since_month'],day=1 ), axis=1 )\n",
    "\n",
    "        df2['competition_time_month'] = ( ( df2['date'] - df2['competition_since'] )/30 ).apply( lambda x: x.days ).astype( int )\n",
    "\n",
    "        # promo since\n",
    "        df2['promo_since'] = df2['promo2_since_year'].astype( str ) + '-' + df2['promo2_since_week'].astype( str )\n",
    "        df2['promo_since'] = df2['promo_since'].apply( lambda x: datetime.datetime.strptime( x + '-1', '%Y-%W-%w' ) - datetime.timedelta( days=7 ) )\n",
    "        df2['promo_time_week'] = ( ( df2['date'] - df2['promo_since'] )/7 ).apply( lambda x: x.days ).astype( int )\n",
    "\n",
    "        # assortment\n",
    "        df2['assortment'] = df2['assortment'].apply( lambda x: 'basic' if x == 'a' else 'extra' if x == 'b' else 'extended' )\n",
    "\n",
    "        # state holiday\n",
    "        df2['state_holiday'] = df2['state_holiday'].apply( lambda x: 'public_holiday' if x == 'a' else 'easter_holiday' if x == 'b' \n",
    "                                                          else 'christmas' if x == 'c' else 'regular_day' )\n",
    "\n",
    "        # 3.0. Filtragem de Variaveis\n",
    "\n",
    "        ## 3.1. Filtragem das Linhas\n",
    "\n",
    "        df2 = df2[(df2['open'] != 0)]\n",
    "\n",
    "        ## 3.2. Selecao das Colunas\n",
    "        cols_drop = ['open', 'promo_interval', 'month_map']\n",
    "        df2 = df2.drop( cols_drop, axis=1 )\n",
    "        \n",
    "        return df2\n",
    "\n",
    "    def data_preparation(self,df5):\n",
    "\n",
    "        ## 5.1 Normalization\n",
    "\n",
    "        ## 5.2 Rescaling\n",
    "\n",
    "        #competition_distance\n",
    "        df5['competition_distance'] = self.competition_distance_scaler.fit_transform(df5[['competition_distance']].values)\n",
    "\n",
    "        #competition_time_month\n",
    "        df5['competition_time_month'] = self.competition_time_month_scaler.fit_transform(df5[['competition_time_month']].values)\n",
    "\n",
    "\n",
    "        #promo_time_week\n",
    "        df5['promo_time_week'] = self.promo_time_week_scaler.fit_transform(df5[['promo_time_week']].values)\n",
    "\n",
    "        #year\n",
    "        df5['year'] = self.year_scaler.fit_transform(df5[['year']].values)\n",
    "\n",
    "        ## 5.3 Transformation\n",
    "\n",
    "        ### 5.3.1 Encoding\n",
    "\n",
    "\n",
    "        #state_holiday - One Hot Enconding\n",
    "        df5 = pd.get_dummies( df5, prefix = ['state_holiday'], columns=['state_holiday'])\n",
    "\n",
    "\n",
    "        #store_type\n",
    "        le = LabelEncoder()\n",
    "        df5['store_type'] = self.store_type_scaler.fit_transform(df5['store_type'])\n",
    "\n",
    "        #assortment\n",
    "        assortment_dict= {'basic':1, 'extra':2, 'extended':3}\n",
    "        df5['assortment'] = df5['assortment'].map(assortment_dict)\n",
    "\n",
    "        ### 5.3.3. Natural Transformation\n",
    "        #day_of_week\n",
    "        df5['day_of_week_sin'] = df5['day_of_week'].apply(lambda x: np.sin( x * ( 2. * np.pi/7)))\n",
    "        df5['day_of_week_cos'] = df5['day_of_week'].apply(lambda x: np.cos( x * ( 2. * np.pi/7)))\n",
    "\n",
    "        #month\n",
    "        df5['month_sin'] = df5['month'].apply(lambda x: np.sin( x * ( 2. * np.pi/12)))\n",
    "        df5['month_cos'] = df5['month'].apply(lambda x: np.cos( x * ( 2. * np.pi/12)))\n",
    "\n",
    "        #day\n",
    "        df5['day_sin'] = df5['day'].apply(lambda x: np.sin( x * ( 2. * np.pi/30)))\n",
    "        df5['day_cos'] = df5['day'].apply(lambda x: np.cos( x * ( 2. * np.pi/30)))\n",
    "\n",
    "        #week_of_year\n",
    "        df5['week_of_year_sin'] = df5['week_of_year'].apply(lambda x: np.sin( x * ( 2. * np.pi/52)))\n",
    "        df5['week_of_year_cos'] = df5['week_of_year'].apply(lambda x: np.cos( x * ( 2. * np.pi/52)))\n",
    "        \n",
    "        cols_selected = ['store', 'promo', 'store_type', 'assortment', 'competition_distance', 'competition_open_since_month', 'competition_open_since_year', \n",
    "                                'promo2', 'promo2_since_week', 'promo2_since_year', 'competition_time_month', 'promo_time_week', 'day_of_week_sin', 'day_of_week_cos', \n",
    "                                'month_cos','month_sin', 'day_sin', 'day_cos','week_of_year_cos','week_of_year_sin']\n",
    "        \n",
    "        return df5[cols_selected]\n",
    "\n",
    "    \n",
    "    def get_prediction(self, model, original_data, test_data):\n",
    "        #prediction\n",
    "        pred = model.predict(test_data)\n",
    "        \n",
    "        #join pred into original data\n",
    "        original_data['prediction'] = np.expm1(pred)\n",
    "        \n",
    "        return original_data.to_json(orient='records',date_format='iso')"
   ]
  },
  {
   "cell_type": "markdown",
   "id": "89d87f27",
   "metadata": {},
   "source": [
    "## 10.2 API Handler"
   ]
  },
  {
   "cell_type": "code",
   "execution_count": 15,
   "id": "df82c8e6",
   "metadata": {
    "ExecuteTime": {
     "end_time": "2021-06-22T19:45:41.571227Z",
     "start_time": "2021-06-22T19:45:41.542559Z"
    }
   },
   "outputs": [
    {
     "ename": "ModuleNotFoundError",
     "evalue": "No module named 'rossmann'",
     "output_type": "error",
     "traceback": [
      "\u001b[0;31m---------------------------------------------------------------------------\u001b[0m",
      "\u001b[0;31mModuleNotFoundError\u001b[0m                       Traceback (most recent call last)",
      "\u001b[0;32m<ipython-input-15-3b12fad9ecf8>\u001b[0m in \u001b[0;36m<module>\u001b[0;34m\u001b[0m\n\u001b[1;32m      2\u001b[0m \u001b[0;32mimport\u001b[0m \u001b[0mpandas\u001b[0m \u001b[0;32mas\u001b[0m \u001b[0mpd\u001b[0m\u001b[0;34m\u001b[0m\u001b[0;34m\u001b[0m\u001b[0m\n\u001b[1;32m      3\u001b[0m \u001b[0;32mfrom\u001b[0m \u001b[0mflask\u001b[0m \u001b[0;32mimport\u001b[0m \u001b[0mFlask\u001b[0m\u001b[0;34m,\u001b[0m \u001b[0mrequest\u001b[0m\u001b[0;34m,\u001b[0m \u001b[0mResponse\u001b[0m\u001b[0;34m\u001b[0m\u001b[0;34m\u001b[0m\u001b[0m\n\u001b[0;32m----> 4\u001b[0;31m \u001b[0;32mfrom\u001b[0m \u001b[0mrossmann\u001b[0m\u001b[0;34m.\u001b[0m\u001b[0mRossmann\u001b[0m \u001b[0;32mimport\u001b[0m \u001b[0mRossmann\u001b[0m\u001b[0;34m\u001b[0m\u001b[0;34m\u001b[0m\u001b[0m\n\u001b[0m\u001b[1;32m      5\u001b[0m \u001b[0;34m\u001b[0m\u001b[0m\n\u001b[1;32m      6\u001b[0m \u001b[0;31m#loading Model\u001b[0m\u001b[0;34m\u001b[0m\u001b[0;34m\u001b[0m\u001b[0;34m\u001b[0m\u001b[0m\n",
      "\u001b[0;31mModuleNotFoundError\u001b[0m: No module named 'rossmann'"
     ]
    }
   ],
   "source": [
    "import pickle\n",
    "import pandas as pd\n",
    "from flask import Flask, request, Response\n",
    "from rossmann.Rossmann import Rossmann\n",
    "\n",
    "#loading Model\n",
    "model = pickle.load(open('/Users/jefersonlima/Desktop/Rossmann Store Sales2/Rossmann.pkl', 'rb') )\n",
    "\n",
    "\n",
    "#Inicialize API\n",
    "app = Flask (__name__)\n",
    "\n",
    "@app.route('/rossmann/predict', methods=['POST'])\n",
    "def rossmann_predict():\n",
    "    test_json = request.get_json()\n",
    "\n",
    "    if test_json: #there is data\n",
    "        if isinstance (test_json, dict): #Unique Example\n",
    "            test_raw = pd.DataFrame(test_json, index=[0])\n",
    "            \n",
    "        else: #Multiple Example\n",
    "            test_raw = pd.DataFrame(test_json, columns=test_json[0].keys() )\n",
    "\n",
    "        \n",
    "        #instance\n",
    "        pipeline = Rossmann()\n",
    "        \n",
    "        #data cleaning\n",
    "        df1 = pipeline.data_cleaning(test_raw)\n",
    "        \n",
    "        #feature engineering\n",
    "        df2 = pipeline.feature_engineering(df1)\n",
    "        #data preparation\n",
    "        df3 = pipeline.data_preparation(df2)\n",
    "\n",
    "        #prediction\n",
    "        df_response = pipeline.get_prediction(model, test_raw, df3)\n",
    "        \n",
    "        return df_response\n",
    "        \n",
    "        \n",
    "        \n",
    "    else:\n",
    "        return response ('{}', status=200, mimetype='application/json')\n",
    "\n",
    "if __name == '__main__':\n",
    "    app.run('0.0.0.0')"
   ]
  },
  {
   "cell_type": "markdown",
   "id": "6dbecb79",
   "metadata": {},
   "source": [
    "## 10.3 API Tester"
   ]
  },
  {
   "cell_type": "code",
   "execution_count": 26,
   "id": "7270f5cc",
   "metadata": {
    "ExecuteTime": {
     "end_time": "2021-06-22T20:13:13.844196Z",
     "start_time": "2021-06-22T20:13:13.838454Z"
    }
   },
   "outputs": [],
   "source": [
    "import requests"
   ]
  },
  {
   "cell_type": "code",
   "execution_count": 27,
   "id": "615a19d2",
   "metadata": {
    "ExecuteTime": {
     "end_time": "2021-06-22T20:13:14.182465Z",
     "start_time": "2021-06-22T20:13:14.139364Z"
    }
   },
   "outputs": [],
   "source": [
    "#loading test\n",
    "df10 = pd.read_csv ('rossmann-store-sales/test.csv', low_memory=False)"
   ]
  },
  {
   "cell_type": "code",
   "execution_count": 28,
   "id": "cdc48a9b",
   "metadata": {
    "ExecuteTime": {
     "end_time": "2021-06-22T20:13:14.469792Z",
     "start_time": "2021-06-22T20:13:14.421709Z"
    }
   },
   "outputs": [],
   "source": [
    "#merge test dataset + store\n",
    "df_test = pd.merge(df10,df_store_raw,how ='left', on='Store')\n",
    "\n",
    "#choose Store for Predictions\n",
    "df_test = df_test[df_test['Store'].isin([12, 22, 24])]\n",
    "\n",
    "#remove closed days\n",
    "df_test = df_test[df_test['Open']!= 0]\n",
    "df_test = df_test[~df_test['Open'].isnull()]\n",
    "df_test = df_test.drop('Id', axis=1)\n",
    "\n"
   ]
  },
  {
   "cell_type": "code",
   "execution_count": 29,
   "id": "2f1084ba",
   "metadata": {
    "ExecuteTime": {
     "end_time": "2021-06-22T20:13:14.646293Z",
     "start_time": "2021-06-22T20:13:14.636609Z"
    }
   },
   "outputs": [],
   "source": [
    "#convert DataFrame to Json\n",
    "\n",
    "data = json.dumps(df_test.to_dict(orient='records'))"
   ]
  },
  {
   "cell_type": "code",
   "execution_count": 30,
   "id": "b556662e",
   "metadata": {
    "ExecuteTime": {
     "end_time": "2021-06-22T20:13:15.440581Z",
     "start_time": "2021-06-22T20:13:14.825480Z"
    }
   },
   "outputs": [
    {
     "name": "stdout",
     "output_type": "stream",
     "text": [
      "Status Code 503\n"
     ]
    }
   ],
   "source": [
    "#API Call\n",
    "\n",
    "#url='http://0.0.0.0:5000/rossmann/predict' #url-local\n",
    "\n",
    "url='https://rossmann-model-testjl.herokuapp.com/rossmann/predict'\n",
    "header={'Content-Type': 'application/json'}\n",
    "data= data\n",
    "\n",
    "r = requests.post(url,data=data,headers=header)\n",
    "print('Status Code {}'.format( r.status_code))"
   ]
  },
  {
   "cell_type": "code",
   "execution_count": 31,
   "id": "dfa58f73",
   "metadata": {
    "ExecuteTime": {
     "end_time": "2021-06-22T20:13:15.660688Z",
     "start_time": "2021-06-22T20:13:15.617218Z"
    }
   },
   "outputs": [
    {
     "ename": "JSONDecodeError",
     "evalue": "Expecting value: line 1 column 1 (char 0)",
     "output_type": "error",
     "traceback": [
      "\u001b[0;31m---------------------------------------------------------------------------\u001b[0m",
      "\u001b[0;31mJSONDecodeError\u001b[0m                           Traceback (most recent call last)",
      "\u001b[0;32m<ipython-input-31-919c40991c48>\u001b[0m in \u001b[0;36m<module>\u001b[0;34m\u001b[0m\n\u001b[0;32m----> 1\u001b[0;31m \u001b[0md1\u001b[0m \u001b[0;34m=\u001b[0m \u001b[0mpd\u001b[0m\u001b[0;34m.\u001b[0m\u001b[0mDataFrame\u001b[0m \u001b[0;34m(\u001b[0m\u001b[0mr\u001b[0m\u001b[0;34m.\u001b[0m\u001b[0mjson\u001b[0m\u001b[0;34m(\u001b[0m\u001b[0;34m)\u001b[0m\u001b[0;34m,\u001b[0m \u001b[0mcolumns\u001b[0m\u001b[0;34m=\u001b[0m\u001b[0mr\u001b[0m\u001b[0;34m.\u001b[0m\u001b[0mjson\u001b[0m\u001b[0;34m(\u001b[0m\u001b[0;34m)\u001b[0m\u001b[0;34m[\u001b[0m\u001b[0;36m0\u001b[0m\u001b[0;34m]\u001b[0m\u001b[0;34m.\u001b[0m\u001b[0mkeys\u001b[0m\u001b[0;34m(\u001b[0m\u001b[0;34m)\u001b[0m\u001b[0;34m)\u001b[0m\u001b[0;34m\u001b[0m\u001b[0;34m\u001b[0m\u001b[0m\n\u001b[0m",
      "\u001b[0;32m/Library/Frameworks/Python.framework/Versions/3.7/lib/python3.7/site-packages/requests/models.py\u001b[0m in \u001b[0;36mjson\u001b[0;34m(self, **kwargs)\u001b[0m\n\u001b[1;32m    898\u001b[0m                     \u001b[0;31m# used.\u001b[0m\u001b[0;34m\u001b[0m\u001b[0;34m\u001b[0m\u001b[0;34m\u001b[0m\u001b[0m\n\u001b[1;32m    899\u001b[0m                     \u001b[0;32mpass\u001b[0m\u001b[0;34m\u001b[0m\u001b[0;34m\u001b[0m\u001b[0m\n\u001b[0;32m--> 900\u001b[0;31m         \u001b[0;32mreturn\u001b[0m \u001b[0mcomplexjson\u001b[0m\u001b[0;34m.\u001b[0m\u001b[0mloads\u001b[0m\u001b[0;34m(\u001b[0m\u001b[0mself\u001b[0m\u001b[0;34m.\u001b[0m\u001b[0mtext\u001b[0m\u001b[0;34m,\u001b[0m \u001b[0;34m**\u001b[0m\u001b[0mkwargs\u001b[0m\u001b[0;34m)\u001b[0m\u001b[0;34m\u001b[0m\u001b[0;34m\u001b[0m\u001b[0m\n\u001b[0m\u001b[1;32m    901\u001b[0m \u001b[0;34m\u001b[0m\u001b[0m\n\u001b[1;32m    902\u001b[0m     \u001b[0;34m@\u001b[0m\u001b[0mproperty\u001b[0m\u001b[0;34m\u001b[0m\u001b[0;34m\u001b[0m\u001b[0m\n",
      "\u001b[0;32m/Library/Frameworks/Python.framework/Versions/3.7/lib/python3.7/json/__init__.py\u001b[0m in \u001b[0;36mloads\u001b[0;34m(s, encoding, cls, object_hook, parse_float, parse_int, parse_constant, object_pairs_hook, **kw)\u001b[0m\n\u001b[1;32m    346\u001b[0m             \u001b[0mparse_int\u001b[0m \u001b[0;32mis\u001b[0m \u001b[0;32mNone\u001b[0m \u001b[0;32mand\u001b[0m \u001b[0mparse_float\u001b[0m \u001b[0;32mis\u001b[0m \u001b[0;32mNone\u001b[0m \u001b[0;32mand\u001b[0m\u001b[0;34m\u001b[0m\u001b[0;34m\u001b[0m\u001b[0m\n\u001b[1;32m    347\u001b[0m             parse_constant is None and object_pairs_hook is None and not kw):\n\u001b[0;32m--> 348\u001b[0;31m         \u001b[0;32mreturn\u001b[0m \u001b[0m_default_decoder\u001b[0m\u001b[0;34m.\u001b[0m\u001b[0mdecode\u001b[0m\u001b[0;34m(\u001b[0m\u001b[0ms\u001b[0m\u001b[0;34m)\u001b[0m\u001b[0;34m\u001b[0m\u001b[0;34m\u001b[0m\u001b[0m\n\u001b[0m\u001b[1;32m    349\u001b[0m     \u001b[0;32mif\u001b[0m \u001b[0mcls\u001b[0m \u001b[0;32mis\u001b[0m \u001b[0;32mNone\u001b[0m\u001b[0;34m:\u001b[0m\u001b[0;34m\u001b[0m\u001b[0;34m\u001b[0m\u001b[0m\n\u001b[1;32m    350\u001b[0m         \u001b[0mcls\u001b[0m \u001b[0;34m=\u001b[0m \u001b[0mJSONDecoder\u001b[0m\u001b[0;34m\u001b[0m\u001b[0;34m\u001b[0m\u001b[0m\n",
      "\u001b[0;32m/Library/Frameworks/Python.framework/Versions/3.7/lib/python3.7/json/decoder.py\u001b[0m in \u001b[0;36mdecode\u001b[0;34m(self, s, _w)\u001b[0m\n\u001b[1;32m    335\u001b[0m \u001b[0;34m\u001b[0m\u001b[0m\n\u001b[1;32m    336\u001b[0m         \"\"\"\n\u001b[0;32m--> 337\u001b[0;31m         \u001b[0mobj\u001b[0m\u001b[0;34m,\u001b[0m \u001b[0mend\u001b[0m \u001b[0;34m=\u001b[0m \u001b[0mself\u001b[0m\u001b[0;34m.\u001b[0m\u001b[0mraw_decode\u001b[0m\u001b[0;34m(\u001b[0m\u001b[0ms\u001b[0m\u001b[0;34m,\u001b[0m \u001b[0midx\u001b[0m\u001b[0;34m=\u001b[0m\u001b[0m_w\u001b[0m\u001b[0;34m(\u001b[0m\u001b[0ms\u001b[0m\u001b[0;34m,\u001b[0m \u001b[0;36m0\u001b[0m\u001b[0;34m)\u001b[0m\u001b[0;34m.\u001b[0m\u001b[0mend\u001b[0m\u001b[0;34m(\u001b[0m\u001b[0;34m)\u001b[0m\u001b[0;34m)\u001b[0m\u001b[0;34m\u001b[0m\u001b[0;34m\u001b[0m\u001b[0m\n\u001b[0m\u001b[1;32m    338\u001b[0m         \u001b[0mend\u001b[0m \u001b[0;34m=\u001b[0m \u001b[0m_w\u001b[0m\u001b[0;34m(\u001b[0m\u001b[0ms\u001b[0m\u001b[0;34m,\u001b[0m \u001b[0mend\u001b[0m\u001b[0;34m)\u001b[0m\u001b[0;34m.\u001b[0m\u001b[0mend\u001b[0m\u001b[0;34m(\u001b[0m\u001b[0;34m)\u001b[0m\u001b[0;34m\u001b[0m\u001b[0;34m\u001b[0m\u001b[0m\n\u001b[1;32m    339\u001b[0m         \u001b[0;32mif\u001b[0m \u001b[0mend\u001b[0m \u001b[0;34m!=\u001b[0m \u001b[0mlen\u001b[0m\u001b[0;34m(\u001b[0m\u001b[0ms\u001b[0m\u001b[0;34m)\u001b[0m\u001b[0;34m:\u001b[0m\u001b[0;34m\u001b[0m\u001b[0;34m\u001b[0m\u001b[0m\n",
      "\u001b[0;32m/Library/Frameworks/Python.framework/Versions/3.7/lib/python3.7/json/decoder.py\u001b[0m in \u001b[0;36mraw_decode\u001b[0;34m(self, s, idx)\u001b[0m\n\u001b[1;32m    353\u001b[0m             \u001b[0mobj\u001b[0m\u001b[0;34m,\u001b[0m \u001b[0mend\u001b[0m \u001b[0;34m=\u001b[0m \u001b[0mself\u001b[0m\u001b[0;34m.\u001b[0m\u001b[0mscan_once\u001b[0m\u001b[0;34m(\u001b[0m\u001b[0ms\u001b[0m\u001b[0;34m,\u001b[0m \u001b[0midx\u001b[0m\u001b[0;34m)\u001b[0m\u001b[0;34m\u001b[0m\u001b[0;34m\u001b[0m\u001b[0m\n\u001b[1;32m    354\u001b[0m         \u001b[0;32mexcept\u001b[0m \u001b[0mStopIteration\u001b[0m \u001b[0;32mas\u001b[0m \u001b[0merr\u001b[0m\u001b[0;34m:\u001b[0m\u001b[0;34m\u001b[0m\u001b[0;34m\u001b[0m\u001b[0m\n\u001b[0;32m--> 355\u001b[0;31m             \u001b[0;32mraise\u001b[0m \u001b[0mJSONDecodeError\u001b[0m\u001b[0;34m(\u001b[0m\u001b[0;34m\"Expecting value\"\u001b[0m\u001b[0;34m,\u001b[0m \u001b[0ms\u001b[0m\u001b[0;34m,\u001b[0m \u001b[0merr\u001b[0m\u001b[0;34m.\u001b[0m\u001b[0mvalue\u001b[0m\u001b[0;34m)\u001b[0m \u001b[0;32mfrom\u001b[0m \u001b[0;32mNone\u001b[0m\u001b[0;34m\u001b[0m\u001b[0;34m\u001b[0m\u001b[0m\n\u001b[0m\u001b[1;32m    356\u001b[0m         \u001b[0;32mreturn\u001b[0m \u001b[0mobj\u001b[0m\u001b[0;34m,\u001b[0m \u001b[0mend\u001b[0m\u001b[0;34m\u001b[0m\u001b[0;34m\u001b[0m\u001b[0m\n",
      "\u001b[0;31mJSONDecodeError\u001b[0m: Expecting value: line 1 column 1 (char 0)"
     ]
    }
   ],
   "source": [
    "d1 = pd.DataFrame (r.json(), columns=r.json()[0].keys())"
   ]
  },
  {
   "cell_type": "code",
   "execution_count": null,
   "id": "04019243",
   "metadata": {},
   "outputs": [],
   "source": [
    "d1.head()"
   ]
  },
  {
   "cell_type": "code",
   "execution_count": null,
   "id": "057ed5e3",
   "metadata": {},
   "outputs": [],
   "source": [
    "d2 =d1[['store','prediction']].groupby('store').sum().reset_index()\n",
    "\n",
    "for i in range( len(d2)):\n",
    "    print('Store Number {} will sell R${:,.2f} in the next 6 weeks' .format(d2.loc[i, 'store'],\n",
    "                                                                     d2.loc[i, 'prediction']))"
   ]
  }
 ],
 "metadata": {
  "kernelspec": {
   "display_name": "Python 3",
   "language": "python",
   "name": "python3"
  },
  "language_info": {
   "codemirror_mode": {
    "name": "ipython",
    "version": 3
   },
   "file_extension": ".py",
   "mimetype": "text/x-python",
   "name": "python",
   "nbconvert_exporter": "python",
   "pygments_lexer": "ipython3",
   "version": "3.7.1"
  }
 },
 "nbformat": 4,
 "nbformat_minor": 5
}
